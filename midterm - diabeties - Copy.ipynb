{
 "cells": [
  {
   "cell_type": "markdown",
   "id": "6d43bd72",
   "metadata": {},
   "source": [
    "## l. Introduction"
   ]
  },
  {
   "cell_type": "markdown",
   "id": "36a5cdc9",
   "metadata": {},
   "source": [
    "### 1. Identify a domain specific area:\n",
    "\n",
    "#### Bioinformatics:\n",
    "\n",
    "As an interdisciplinary field that utilises software tools to analyse biological data, bioinformatics has emerged as a crucial tool in developing insights, specifically into larger datasets that have become more numerous with the development of computer storage, processing power and means of collecting and analysing data across the fields of biology, chemistry, physics, computer science, mathematics and statistics.\n",
    "\n",
    "Some of the most noteworthy examples of bioinformatics exist in the field of genomics, where DNA sequencing has created wide ranging implications for the study of disease, human health and longevity. \n",
    "\n",
    "#### Bioinformatics used in Diabetes research\n",
    "\n",
    "Diabetes is threatening to become an epidemic of global proportions. In the United Kingdom alone, currently 4.8 million people have been diagnosed with diabetes with this number expected to climb to 5.5 million by 2030.\n",
    "(ref. https://www.diabetes.org.uk/professionals/position-statements-reports/statistics)\n",
    "\n",
    "The production of a regression model that takes various biological markers as independent variables and determines the probability that an individual is or is likely to be diabetic in the future, could be used in diagnoses and as an early warning system to allow subjects to implement certain bahavioural changes to increase the chance of a positive outcome, leading to greater longevity and a reduction of strain on health services."
   ]
  },
  {
   "cell_type": "markdown",
   "id": "cd3e0af1",
   "metadata": {},
   "source": [
    "### 2. Dataset:\n",
    " \n",
    "In order to attempt to satisfy the premise outlined above, the dataset needs to contain measurements of several biological markers that are posessed by subjects of the study that either have or do not have diabetes.\n",
    "\n",
    "Originally from the National Institute of Diabetes and Digestive and Kidney Diseases, this dataset was obtained from Kaggle\n",
    "https://www.kaggle.com/datasets/mathchi/diabetes-data-set\n",
    "\n",
    "It is not clear from the dataset if the outcomes as either diabetic or not diabetic were at the time of observation for the other columns in the dataset, or were recorded during follow up examinations. Without this information, the data may not provide predictive characteristics of whether an individual may develop diabetes if they currently do not have it, but this does not affect the ability of the data to train a model to predict if an individual has or does not have diabetes.\n",
    "\n",
    "The subjects of this dataset were all females of at least 21 years old, and of Pima Indian heritage. Any conclusions drawn from the analysis of this dataset should remain cognisant of the focused demographic within the dataset, and wider generalisations about differeing demographics should be made with caution."
   ]
  },
  {
   "cell_type": "markdown",
   "id": "befd605d",
   "metadata": {},
   "source": [
    "### 3. Objectives of the Project\n",
    "\n",
    "Early diagnosis of any medical condition can dramatically increase the chance of a positive outcome. This project will attempt to create a predictive regression model take certain bio-markers as input and make a prediction with reasonable accuracy of either diabetic or not diabetic. The limitations of this project, such as the imited number and demographic of the test subjects, as well as the limited number of biomarkers observed and used as independent variables means that the model is more likely to act as a proof of concept, rather than a wholly effective predictor.\n",
    "\n",
    "With more data, more test subjects from a wider cross-section of culture and genetics, and a wider selection of predictive modelling techniques, a model with greater efficacy should be possible by following the general principles set out in this project."
   ]
  },
  {
   "cell_type": "markdown",
   "id": "50ac766c",
   "metadata": {},
   "source": [
    "## ll. Implementation"
   ]
  },
  {
   "cell_type": "markdown",
   "id": "9a00f39b",
   "metadata": {},
   "source": [
    "### 4. Convert / store dataset locally and preprocess the data"
   ]
  },
  {
   "cell_type": "markdown",
   "id": "aa62da97",
   "metadata": {},
   "source": [
    "#### Import pandas library for creating dataframe\n",
    " - the data will be held locally in a pandas dataframe, using pandas read_csv method"
   ]
  },
  {
   "cell_type": "code",
   "execution_count": 1,
   "id": "3bb15201",
   "metadata": {},
   "outputs": [],
   "source": [
    "import pandas as pd"
   ]
  },
  {
   "cell_type": "code",
   "execution_count": 2,
   "id": "4baefc33",
   "metadata": {},
   "outputs": [
    {
     "data": {
      "text/html": [
       "<div>\n",
       "<style scoped>\n",
       "    .dataframe tbody tr th:only-of-type {\n",
       "        vertical-align: middle;\n",
       "    }\n",
       "\n",
       "    .dataframe tbody tr th {\n",
       "        vertical-align: top;\n",
       "    }\n",
       "\n",
       "    .dataframe thead th {\n",
       "        text-align: right;\n",
       "    }\n",
       "</style>\n",
       "<table border=\"1\" class=\"dataframe\">\n",
       "  <thead>\n",
       "    <tr style=\"text-align: right;\">\n",
       "      <th></th>\n",
       "      <th>Pregnancies</th>\n",
       "      <th>Glucose</th>\n",
       "      <th>BloodPressure</th>\n",
       "      <th>SkinThickness</th>\n",
       "      <th>Insulin</th>\n",
       "      <th>BMI</th>\n",
       "      <th>DiabetesPedigreeFunction</th>\n",
       "      <th>Age</th>\n",
       "      <th>Outcome</th>\n",
       "    </tr>\n",
       "  </thead>\n",
       "  <tbody>\n",
       "    <tr>\n",
       "      <th>0</th>\n",
       "      <td>6</td>\n",
       "      <td>148</td>\n",
       "      <td>72</td>\n",
       "      <td>35</td>\n",
       "      <td>0</td>\n",
       "      <td>33.6</td>\n",
       "      <td>0.627</td>\n",
       "      <td>50</td>\n",
       "      <td>1</td>\n",
       "    </tr>\n",
       "    <tr>\n",
       "      <th>1</th>\n",
       "      <td>1</td>\n",
       "      <td>85</td>\n",
       "      <td>66</td>\n",
       "      <td>29</td>\n",
       "      <td>0</td>\n",
       "      <td>26.6</td>\n",
       "      <td>0.351</td>\n",
       "      <td>31</td>\n",
       "      <td>0</td>\n",
       "    </tr>\n",
       "    <tr>\n",
       "      <th>2</th>\n",
       "      <td>8</td>\n",
       "      <td>183</td>\n",
       "      <td>64</td>\n",
       "      <td>0</td>\n",
       "      <td>0</td>\n",
       "      <td>23.3</td>\n",
       "      <td>0.672</td>\n",
       "      <td>32</td>\n",
       "      <td>1</td>\n",
       "    </tr>\n",
       "    <tr>\n",
       "      <th>3</th>\n",
       "      <td>1</td>\n",
       "      <td>89</td>\n",
       "      <td>66</td>\n",
       "      <td>23</td>\n",
       "      <td>94</td>\n",
       "      <td>28.1</td>\n",
       "      <td>0.167</td>\n",
       "      <td>21</td>\n",
       "      <td>0</td>\n",
       "    </tr>\n",
       "    <tr>\n",
       "      <th>4</th>\n",
       "      <td>0</td>\n",
       "      <td>137</td>\n",
       "      <td>40</td>\n",
       "      <td>35</td>\n",
       "      <td>168</td>\n",
       "      <td>43.1</td>\n",
       "      <td>2.288</td>\n",
       "      <td>33</td>\n",
       "      <td>1</td>\n",
       "    </tr>\n",
       "    <tr>\n",
       "      <th>5</th>\n",
       "      <td>5</td>\n",
       "      <td>116</td>\n",
       "      <td>74</td>\n",
       "      <td>0</td>\n",
       "      <td>0</td>\n",
       "      <td>25.6</td>\n",
       "      <td>0.201</td>\n",
       "      <td>30</td>\n",
       "      <td>0</td>\n",
       "    </tr>\n",
       "    <tr>\n",
       "      <th>6</th>\n",
       "      <td>3</td>\n",
       "      <td>78</td>\n",
       "      <td>50</td>\n",
       "      <td>32</td>\n",
       "      <td>88</td>\n",
       "      <td>31.0</td>\n",
       "      <td>0.248</td>\n",
       "      <td>26</td>\n",
       "      <td>1</td>\n",
       "    </tr>\n",
       "    <tr>\n",
       "      <th>7</th>\n",
       "      <td>10</td>\n",
       "      <td>115</td>\n",
       "      <td>0</td>\n",
       "      <td>0</td>\n",
       "      <td>0</td>\n",
       "      <td>35.3</td>\n",
       "      <td>0.134</td>\n",
       "      <td>29</td>\n",
       "      <td>0</td>\n",
       "    </tr>\n",
       "    <tr>\n",
       "      <th>8</th>\n",
       "      <td>2</td>\n",
       "      <td>197</td>\n",
       "      <td>70</td>\n",
       "      <td>45</td>\n",
       "      <td>543</td>\n",
       "      <td>30.5</td>\n",
       "      <td>0.158</td>\n",
       "      <td>53</td>\n",
       "      <td>1</td>\n",
       "    </tr>\n",
       "    <tr>\n",
       "      <th>9</th>\n",
       "      <td>8</td>\n",
       "      <td>125</td>\n",
       "      <td>96</td>\n",
       "      <td>0</td>\n",
       "      <td>0</td>\n",
       "      <td>0.0</td>\n",
       "      <td>0.232</td>\n",
       "      <td>54</td>\n",
       "      <td>1</td>\n",
       "    </tr>\n",
       "  </tbody>\n",
       "</table>\n",
       "</div>"
      ],
      "text/plain": [
       "   Pregnancies  Glucose  BloodPressure  SkinThickness  Insulin   BMI  \\\n",
       "0            6      148             72             35        0  33.6   \n",
       "1            1       85             66             29        0  26.6   \n",
       "2            8      183             64              0        0  23.3   \n",
       "3            1       89             66             23       94  28.1   \n",
       "4            0      137             40             35      168  43.1   \n",
       "5            5      116             74              0        0  25.6   \n",
       "6            3       78             50             32       88  31.0   \n",
       "7           10      115              0              0        0  35.3   \n",
       "8            2      197             70             45      543  30.5   \n",
       "9            8      125             96              0        0   0.0   \n",
       "\n",
       "   DiabetesPedigreeFunction  Age  Outcome  \n",
       "0                     0.627   50        1  \n",
       "1                     0.351   31        0  \n",
       "2                     0.672   32        1  \n",
       "3                     0.167   21        0  \n",
       "4                     2.288   33        1  \n",
       "5                     0.201   30        0  \n",
       "6                     0.248   26        1  \n",
       "7                     0.134   29        0  \n",
       "8                     0.158   53        1  \n",
       "9                     0.232   54        1  "
      ]
     },
     "execution_count": 2,
     "metadata": {},
     "output_type": "execute_result"
    }
   ],
   "source": [
    "# create and check dataframe\n",
    "df = pd.read_csv('data/diabetes.csv')\n",
    "\n",
    "# check the first 10 rows of data\n",
    "df.head(10)"
   ]
  },
  {
   "cell_type": "markdown",
   "id": "815f857c",
   "metadata": {},
   "source": [
    "#### The table appears to comply with 1NF, 2NF and 3NF:\n",
    "There is a single primary key, no duplication of data and no transitive dependencies."
   ]
  },
  {
   "cell_type": "markdown",
   "id": "d13f2840",
   "metadata": {},
   "source": [
    "### Database overview:\n",
    " - Pregnancies: Number of times pregnant\n",
    " - Glucose: Plasma glucose concentration a 2 hours in an oral glucose tolerance test\n",
    " - BloodPressure: Diastolic blood pressure (mm Hg)\n",
    " - SkinThickness: Triceps skin fold thickness (mm)\n",
    " - Insulin: 2-Hour serum insulin (mu U/ml)\n",
    " - BMI: Body mass index (weight in kg/(height in m)^2)\n",
    " - DiabetesPedigreeFunction: Diabetes pedigree function\n",
    " - Age: Age (years)\n",
    " - Outcome: (Class variable) 1 = positive for diabetes, 0 = negative for diabetes"
   ]
  },
  {
   "cell_type": "markdown",
   "id": "3a2c02a4",
   "metadata": {},
   "source": [
    "#### Determine the shape of the data"
   ]
  },
  {
   "cell_type": "code",
   "execution_count": 3,
   "id": "c966299b",
   "metadata": {},
   "outputs": [
    {
     "data": {
      "text/plain": [
       "(768, 9)"
      ]
     },
     "execution_count": 3,
     "metadata": {},
     "output_type": "execute_result"
    }
   ],
   "source": [
    "# get the number of rows (records) and columns (dependent variables)\n",
    "df.shape"
   ]
  },
  {
   "cell_type": "markdown",
   "id": "6d560be0",
   "metadata": {},
   "source": [
    "The data has <b>768 records</b> and <b>9 fields</b>"
   ]
  },
  {
   "cell_type": "markdown",
   "id": "76f7bd16",
   "metadata": {},
   "source": [
    "#### Check for null / na values"
   ]
  },
  {
   "cell_type": "code",
   "execution_count": 4,
   "id": "4a67ae34",
   "metadata": {},
   "outputs": [
    {
     "name": "stdout",
     "output_type": "stream",
     "text": [
      "Pregnancies                 False\n",
      "Glucose                     False\n",
      "BloodPressure               False\n",
      "SkinThickness               False\n",
      "Insulin                     False\n",
      "BMI                         False\n",
      "DiabetesPedigreeFunction    False\n",
      "Age                         False\n",
      "Outcome                     False\n",
      "dtype: bool\n",
      "\n",
      "Pregnancies                 False\n",
      "Glucose                     False\n",
      "BloodPressure               False\n",
      "SkinThickness               False\n",
      "Insulin                     False\n",
      "BMI                         False\n",
      "DiabetesPedigreeFunction    False\n",
      "Age                         False\n",
      "Outcome                     False\n",
      "dtype: bool\n"
     ]
    }
   ],
   "source": [
    "# check if any na values exist\n",
    "print(df.isna().any())\n",
    "\n",
    "# create a blank line to separate print statements\n",
    "print()\n",
    "\n",
    "# check if any null values exist\n",
    "print(df.isnull().any())"
   ]
  },
  {
   "cell_type": "markdown",
   "id": "7f303cf3",
   "metadata": {},
   "source": [
    "#### There are no null/na values in any fields of the database"
   ]
  },
  {
   "cell_type": "markdown",
   "id": "d9eefe93",
   "metadata": {},
   "source": [
    "#### Generate some descriptive statistics about the database including:\n",
    " - central tendency\n",
    " - dispersion\n",
    " - standard deviation\n",
    " - mean values\n",
    " - max values"
   ]
  },
  {
   "cell_type": "code",
   "execution_count": 5,
   "id": "5c3f3389",
   "metadata": {},
   "outputs": [
    {
     "data": {
      "text/html": [
       "<div>\n",
       "<style scoped>\n",
       "    .dataframe tbody tr th:only-of-type {\n",
       "        vertical-align: middle;\n",
       "    }\n",
       "\n",
       "    .dataframe tbody tr th {\n",
       "        vertical-align: top;\n",
       "    }\n",
       "\n",
       "    .dataframe thead th {\n",
       "        text-align: right;\n",
       "    }\n",
       "</style>\n",
       "<table border=\"1\" class=\"dataframe\">\n",
       "  <thead>\n",
       "    <tr style=\"text-align: right;\">\n",
       "      <th></th>\n",
       "      <th>Pregnancies</th>\n",
       "      <th>Glucose</th>\n",
       "      <th>BloodPressure</th>\n",
       "      <th>SkinThickness</th>\n",
       "      <th>Insulin</th>\n",
       "      <th>BMI</th>\n",
       "      <th>DiabetesPedigreeFunction</th>\n",
       "      <th>Age</th>\n",
       "      <th>Outcome</th>\n",
       "    </tr>\n",
       "  </thead>\n",
       "  <tbody>\n",
       "    <tr>\n",
       "      <th>count</th>\n",
       "      <td>768.000000</td>\n",
       "      <td>768.000000</td>\n",
       "      <td>768.000000</td>\n",
       "      <td>768.000000</td>\n",
       "      <td>768.000000</td>\n",
       "      <td>768.000000</td>\n",
       "      <td>768.000000</td>\n",
       "      <td>768.000000</td>\n",
       "      <td>768.000000</td>\n",
       "    </tr>\n",
       "    <tr>\n",
       "      <th>mean</th>\n",
       "      <td>3.845052</td>\n",
       "      <td>120.894531</td>\n",
       "      <td>69.105469</td>\n",
       "      <td>20.536458</td>\n",
       "      <td>79.799479</td>\n",
       "      <td>31.992578</td>\n",
       "      <td>0.471876</td>\n",
       "      <td>33.240885</td>\n",
       "      <td>0.348958</td>\n",
       "    </tr>\n",
       "    <tr>\n",
       "      <th>std</th>\n",
       "      <td>3.369578</td>\n",
       "      <td>31.972618</td>\n",
       "      <td>19.355807</td>\n",
       "      <td>15.952218</td>\n",
       "      <td>115.244002</td>\n",
       "      <td>7.884160</td>\n",
       "      <td>0.331329</td>\n",
       "      <td>11.760232</td>\n",
       "      <td>0.476951</td>\n",
       "    </tr>\n",
       "    <tr>\n",
       "      <th>min</th>\n",
       "      <td>0.000000</td>\n",
       "      <td>0.000000</td>\n",
       "      <td>0.000000</td>\n",
       "      <td>0.000000</td>\n",
       "      <td>0.000000</td>\n",
       "      <td>0.000000</td>\n",
       "      <td>0.078000</td>\n",
       "      <td>21.000000</td>\n",
       "      <td>0.000000</td>\n",
       "    </tr>\n",
       "    <tr>\n",
       "      <th>25%</th>\n",
       "      <td>1.000000</td>\n",
       "      <td>99.000000</td>\n",
       "      <td>62.000000</td>\n",
       "      <td>0.000000</td>\n",
       "      <td>0.000000</td>\n",
       "      <td>27.300000</td>\n",
       "      <td>0.243750</td>\n",
       "      <td>24.000000</td>\n",
       "      <td>0.000000</td>\n",
       "    </tr>\n",
       "    <tr>\n",
       "      <th>50%</th>\n",
       "      <td>3.000000</td>\n",
       "      <td>117.000000</td>\n",
       "      <td>72.000000</td>\n",
       "      <td>23.000000</td>\n",
       "      <td>30.500000</td>\n",
       "      <td>32.000000</td>\n",
       "      <td>0.372500</td>\n",
       "      <td>29.000000</td>\n",
       "      <td>0.000000</td>\n",
       "    </tr>\n",
       "    <tr>\n",
       "      <th>75%</th>\n",
       "      <td>6.000000</td>\n",
       "      <td>140.250000</td>\n",
       "      <td>80.000000</td>\n",
       "      <td>32.000000</td>\n",
       "      <td>127.250000</td>\n",
       "      <td>36.600000</td>\n",
       "      <td>0.626250</td>\n",
       "      <td>41.000000</td>\n",
       "      <td>1.000000</td>\n",
       "    </tr>\n",
       "    <tr>\n",
       "      <th>max</th>\n",
       "      <td>17.000000</td>\n",
       "      <td>199.000000</td>\n",
       "      <td>122.000000</td>\n",
       "      <td>99.000000</td>\n",
       "      <td>846.000000</td>\n",
       "      <td>67.100000</td>\n",
       "      <td>2.420000</td>\n",
       "      <td>81.000000</td>\n",
       "      <td>1.000000</td>\n",
       "    </tr>\n",
       "  </tbody>\n",
       "</table>\n",
       "</div>"
      ],
      "text/plain": [
       "       Pregnancies     Glucose  BloodPressure  SkinThickness     Insulin  \\\n",
       "count   768.000000  768.000000     768.000000     768.000000  768.000000   \n",
       "mean      3.845052  120.894531      69.105469      20.536458   79.799479   \n",
       "std       3.369578   31.972618      19.355807      15.952218  115.244002   \n",
       "min       0.000000    0.000000       0.000000       0.000000    0.000000   \n",
       "25%       1.000000   99.000000      62.000000       0.000000    0.000000   \n",
       "50%       3.000000  117.000000      72.000000      23.000000   30.500000   \n",
       "75%       6.000000  140.250000      80.000000      32.000000  127.250000   \n",
       "max      17.000000  199.000000     122.000000      99.000000  846.000000   \n",
       "\n",
       "              BMI  DiabetesPedigreeFunction         Age     Outcome  \n",
       "count  768.000000                768.000000  768.000000  768.000000  \n",
       "mean    31.992578                  0.471876   33.240885    0.348958  \n",
       "std      7.884160                  0.331329   11.760232    0.476951  \n",
       "min      0.000000                  0.078000   21.000000    0.000000  \n",
       "25%     27.300000                  0.243750   24.000000    0.000000  \n",
       "50%     32.000000                  0.372500   29.000000    0.000000  \n",
       "75%     36.600000                  0.626250   41.000000    1.000000  \n",
       "max     67.100000                  2.420000   81.000000    1.000000  "
      ]
     },
     "execution_count": 5,
     "metadata": {},
     "output_type": "execute_result"
    }
   ],
   "source": [
    "# print out an overview of descriptive statistics about the dataset\n",
    "df.describe()"
   ]
  },
  {
   "cell_type": "code",
   "execution_count": 6,
   "id": "dd71f2bb",
   "metadata": {},
   "outputs": [
    {
     "data": {
      "text/plain": [
       "(768, 9)"
      ]
     },
     "execution_count": 6,
     "metadata": {},
     "output_type": "execute_result"
    }
   ],
   "source": [
    "df.shape"
   ]
  },
  {
   "cell_type": "markdown",
   "id": "81dcb45e",
   "metadata": {},
   "source": [
    "#### Import matplotlib and seaborn for data visualisation\n",
    "The inline backend embeds the plots directly into the notebook"
   ]
  },
  {
   "cell_type": "code",
   "execution_count": 7,
   "id": "cd33ad93",
   "metadata": {},
   "outputs": [],
   "source": [
    "%matplotlib inline\n",
    "from matplotlib import pyplot as plt\n",
    "import seaborn as sns"
   ]
  },
  {
   "cell_type": "markdown",
   "id": "f7bb75d1",
   "metadata": {},
   "source": [
    "#### Get a feel for the data through visualisation"
   ]
  },
  {
   "cell_type": "markdown",
   "id": "4cfe0973",
   "metadata": {},
   "source": [
    "#### Check if the dataset is balanced in terms of outcomes"
   ]
  },
  {
   "cell_type": "code",
   "execution_count": 15,
   "id": "95cd8e58",
   "metadata": {},
   "outputs": [
    {
     "data": {
      "text/plain": [
       "0    500\n",
       "1    268\n",
       "Name: Outcome, dtype: int64"
      ]
     },
     "execution_count": 15,
     "metadata": {},
     "output_type": "execute_result"
    },
    {
     "data": {
      "image/png": "[encoded data removed]",
      "text/plain": [
       "<Figure size 640x480 with 1 Axes>"
      ]
     },
     "metadata": {},
     "output_type": "display_data"
    }
   ],
   "source": [
    "# create a pandas series object\n",
    "counts = df['Outcome'].value_counts()\n",
    "\n",
    "# plot bar chart showing outcomes\n",
    "outcomes = counts.plot(kind='bar', )\n",
    "outcomes.set_title('Subject Outcomes')\n",
    "outcomes.set_xlabel('0 = negative   1 = positive')\n",
    "outcomes.set_ylabel('records')\n",
    "\n",
    "# show the number of positive and negative outcomes\n",
    "counts"
   ]
  },
  {
   "cell_type": "markdown",
   "id": "a4167efb",
   "metadata": {},
   "source": [
    "#### The dataset has significantly higher negative than positive diabetes disgnoses"
   ]
  },
  {
   "cell_type": "code",
   "execution_count": 34,
   "id": "7bc219a8",
   "metadata": {},
   "outputs": [],
   "source": [
    "# sns.displot(data = df_balanced, kde=True, x=df_balanced['Glucose'], hue='Outcome', palette = {0: 'blue', 1: 'red'})"
   ]
  },
  {
   "cell_type": "code",
   "execution_count": 42,
   "id": "5e94dbde",
   "metadata": {},
   "outputs": [
    {
     "data": {
      "text/plain": [
       "<matplotlib.axes._subplots.AxesSubplot at 0x1563f004b48>"
      ]
     },
     "execution_count": 42,
     "metadata": {},
     "output_type": "execute_result"
    },
    {
     "data": {
      "image/png": "[encoded data removed]",
      "text/plain": [
       "<Figure size 640x480 with 1 Axes>"
      ]
     },
     "metadata": {},
     "output_type": "display_data"
    }
   ],
   "source": [
    "sns.histplot(data = df_balanced, x=df['Glucose'], hue=df['Outcome'], multiple ='dodge', kde=True)"
   ]
  },
  {
   "cell_type": "markdown",
   "id": "a918eac0",
   "metadata": {},
   "source": [
    "#### The first 8 columns are independent variables, and the 'outcome' column is the target to predict, or the 'y' variable in the regression model"
   ]
  },
  {
   "cell_type": "code",
   "execution_count": 52,
   "id": "80f6cadd",
   "metadata": {},
   "outputs": [
    {
     "name": "stdout",
     "output_type": "stream",
     "text": [
      "['Pregnancies', 'Glucose', 'BloodPressure', 'SkinThickness', 'Insulin', 'BMI', 'DiabetesPedigreeFunction', 'Age']\n"
     ]
    }
   ],
   "source": [
    "# establish a list of feature names, and delete 'outcome'\n",
    "features = list(df)\n",
    "features.remove('Outcome')\n",
    "print(features)"
   ]
  },
  {
   "cell_type": "code",
   "execution_count": 59,
   "id": "4c602749",
   "metadata": {},
   "outputs": [
    {
     "data": {
      "text/html": [
       "<div>\n",
       "<style scoped>\n",
       "    .dataframe tbody tr th:only-of-type {\n",
       "        vertical-align: middle;\n",
       "    }\n",
       "\n",
       "    .dataframe tbody tr th {\n",
       "        vertical-align: top;\n",
       "    }\n",
       "\n",
       "    .dataframe thead th {\n",
       "        text-align: right;\n",
       "    }\n",
       "</style>\n",
       "<table border=\"1\" class=\"dataframe\">\n",
       "  <thead>\n",
       "    <tr style=\"text-align: right;\">\n",
       "      <th></th>\n",
       "      <th>Pregnancies</th>\n",
       "      <th>Glucose</th>\n",
       "      <th>BloodPressure</th>\n",
       "      <th>SkinThickness</th>\n",
       "      <th>Insulin</th>\n",
       "      <th>BMI</th>\n",
       "      <th>DiabetesPedigreeFunction</th>\n",
       "      <th>Age</th>\n",
       "      <th>Outcome</th>\n",
       "    </tr>\n",
       "  </thead>\n",
       "  <tbody>\n",
       "    <tr>\n",
       "      <th>Outcome</th>\n",
       "      <td>0.221898</td>\n",
       "      <td>0.466581</td>\n",
       "      <td>0.065068</td>\n",
       "      <td>0.074752</td>\n",
       "      <td>0.130548</td>\n",
       "      <td>0.292695</td>\n",
       "      <td>0.173844</td>\n",
       "      <td>0.238356</td>\n",
       "      <td>1.000000</td>\n",
       "    </tr>\n",
       "    <tr>\n",
       "      <th>Glucose</th>\n",
       "      <td>0.129459</td>\n",
       "      <td>1.000000</td>\n",
       "      <td>0.152590</td>\n",
       "      <td>0.057328</td>\n",
       "      <td>0.331357</td>\n",
       "      <td>0.221071</td>\n",
       "      <td>0.137337</td>\n",
       "      <td>0.263514</td>\n",
       "      <td>0.466581</td>\n",
       "    </tr>\n",
       "    <tr>\n",
       "      <th>BMI</th>\n",
       "      <td>0.017683</td>\n",
       "      <td>0.221071</td>\n",
       "      <td>0.281805</td>\n",
       "      <td>0.392573</td>\n",
       "      <td>0.197859</td>\n",
       "      <td>1.000000</td>\n",
       "      <td>0.140647</td>\n",
       "      <td>0.036242</td>\n",
       "      <td>0.292695</td>\n",
       "    </tr>\n",
       "    <tr>\n",
       "      <th>Age</th>\n",
       "      <td>0.544341</td>\n",
       "      <td>0.263514</td>\n",
       "      <td>0.239528</td>\n",
       "      <td>-0.113970</td>\n",
       "      <td>-0.042163</td>\n",
       "      <td>0.036242</td>\n",
       "      <td>0.033561</td>\n",
       "      <td>1.000000</td>\n",
       "      <td>0.238356</td>\n",
       "    </tr>\n",
       "    <tr>\n",
       "      <th>Pregnancies</th>\n",
       "      <td>1.000000</td>\n",
       "      <td>0.129459</td>\n",
       "      <td>0.141282</td>\n",
       "      <td>-0.081672</td>\n",
       "      <td>-0.073535</td>\n",
       "      <td>0.017683</td>\n",
       "      <td>-0.033523</td>\n",
       "      <td>0.544341</td>\n",
       "      <td>0.221898</td>\n",
       "    </tr>\n",
       "    <tr>\n",
       "      <th>DiabetesPedigreeFunction</th>\n",
       "      <td>-0.033523</td>\n",
       "      <td>0.137337</td>\n",
       "      <td>0.041265</td>\n",
       "      <td>0.183928</td>\n",
       "      <td>0.185071</td>\n",
       "      <td>0.140647</td>\n",
       "      <td>1.000000</td>\n",
       "      <td>0.033561</td>\n",
       "      <td>0.173844</td>\n",
       "    </tr>\n",
       "    <tr>\n",
       "      <th>Insulin</th>\n",
       "      <td>-0.073535</td>\n",
       "      <td>0.331357</td>\n",
       "      <td>0.088933</td>\n",
       "      <td>0.436783</td>\n",
       "      <td>1.000000</td>\n",
       "      <td>0.197859</td>\n",
       "      <td>0.185071</td>\n",
       "      <td>-0.042163</td>\n",
       "      <td>0.130548</td>\n",
       "    </tr>\n",
       "    <tr>\n",
       "      <th>SkinThickness</th>\n",
       "      <td>-0.081672</td>\n",
       "      <td>0.057328</td>\n",
       "      <td>0.207371</td>\n",
       "      <td>1.000000</td>\n",
       "      <td>0.436783</td>\n",
       "      <td>0.392573</td>\n",
       "      <td>0.183928</td>\n",
       "      <td>-0.113970</td>\n",
       "      <td>0.074752</td>\n",
       "    </tr>\n",
       "    <tr>\n",
       "      <th>BloodPressure</th>\n",
       "      <td>0.141282</td>\n",
       "      <td>0.152590</td>\n",
       "      <td>1.000000</td>\n",
       "      <td>0.207371</td>\n",
       "      <td>0.088933</td>\n",
       "      <td>0.281805</td>\n",
       "      <td>0.041265</td>\n",
       "      <td>0.239528</td>\n",
       "      <td>0.065068</td>\n",
       "    </tr>\n",
       "  </tbody>\n",
       "</table>\n",
       "</div>"
      ],
      "text/plain": [
       "                          Pregnancies   Glucose  BloodPressure  SkinThickness  \\\n",
       "Outcome                      0.221898  0.466581       0.065068       0.074752   \n",
       "Glucose                      0.129459  1.000000       0.152590       0.057328   \n",
       "BMI                          0.017683  0.221071       0.281805       0.392573   \n",
       "Age                          0.544341  0.263514       0.239528      -0.113970   \n",
       "Pregnancies                  1.000000  0.129459       0.141282      -0.081672   \n",
       "DiabetesPedigreeFunction    -0.033523  0.137337       0.041265       0.183928   \n",
       "Insulin                     -0.073535  0.331357       0.088933       0.436783   \n",
       "SkinThickness               -0.081672  0.057328       0.207371       1.000000   \n",
       "BloodPressure                0.141282  0.152590       1.000000       0.207371   \n",
       "\n",
       "                           Insulin       BMI  DiabetesPedigreeFunction  \\\n",
       "Outcome                   0.130548  0.292695                  0.173844   \n",
       "Glucose                   0.331357  0.221071                  0.137337   \n",
       "BMI                       0.197859  1.000000                  0.140647   \n",
       "Age                      -0.042163  0.036242                  0.033561   \n",
       "Pregnancies              -0.073535  0.017683                 -0.033523   \n",
       "DiabetesPedigreeFunction  0.185071  0.140647                  1.000000   \n",
       "Insulin                   1.000000  0.197859                  0.185071   \n",
       "SkinThickness             0.436783  0.392573                  0.183928   \n",
       "BloodPressure             0.088933  0.281805                  0.041265   \n",
       "\n",
       "                               Age   Outcome  \n",
       "Outcome                   0.238356  1.000000  \n",
       "Glucose                   0.263514  0.466581  \n",
       "BMI                       0.036242  0.292695  \n",
       "Age                       1.000000  0.238356  \n",
       "Pregnancies               0.544341  0.221898  \n",
       "DiabetesPedigreeFunction  0.033561  0.173844  \n",
       "Insulin                  -0.042163  0.130548  \n",
       "SkinThickness            -0.113970  0.074752  \n",
       "BloodPressure             0.239528  0.065068  "
      ]
     },
     "execution_count": 59,
     "metadata": {},
     "output_type": "execute_result"
    }
   ],
   "source": [
    "df.corr().sort_values('Outcome', ascending=False)"
   ]
  },
  {
   "cell_type": "code",
   "execution_count": 7,
   "id": "8754dc93",
   "metadata": {},
   "outputs": [],
   "source": [
    "# assign the x and y variables\n",
    "x = diabetes.data\n",
    "y = diabetes.target"
   ]
  },
  {
   "cell_type": "code",
   "execution_count": 11,
   "id": "ead6c5ce",
   "metadata": {},
   "outputs": [
    {
     "data": {
      "text/plain": [
       "((442, 10), (442,))"
      ]
     },
     "execution_count": 11,
     "metadata": {},
     "output_type": "execute_result"
    }
   ],
   "source": [
    "# check the rows and columns of x and y\n",
    "x.shape, y.shape"
   ]
  },
  {
   "cell_type": "markdown",
   "id": "e93d584b",
   "metadata": {},
   "source": [
    "#### Identify key series of the dataset and provide statistical summary of the data, including:\n",
    " - measures of central tendency\n",
    " - measures of spread\n",
    " - type of distribution"
   ]
  },
  {
   "cell_type": "markdown",
   "id": "1dda2012",
   "metadata": {},
   "source": [
    "##### Import module necessary for data split"
   ]
  },
  {
   "cell_type": "code",
   "execution_count": 14,
   "id": "d90d7dc1",
   "metadata": {},
   "outputs": [],
   "source": [
    "from sklearn.model_selection import train_test_split"
   ]
  },
  {
   "cell_type": "code",
   "execution_count": 25,
   "id": "1e5a6483",
   "metadata": {},
   "outputs": [],
   "source": [
    "# initialise data into an 80/20 split\n",
    "x_train, x_test, y_train, y_test = train_test_split(x,y, test_size=0.2)"
   ]
  },
  {
   "cell_type": "code",
   "execution_count": 26,
   "id": "f97be6c5",
   "metadata": {},
   "outputs": [
    {
     "data": {
      "text/plain": [
       "((353, 10), (353,))"
      ]
     },
     "execution_count": 26,
     "metadata": {},
     "output_type": "execute_result"
    }
   ],
   "source": [
    "x_train.shape, y_train.shape"
   ]
  },
  {
   "cell_type": "code",
   "execution_count": 27,
   "id": "310329bd",
   "metadata": {},
   "outputs": [
    {
     "data": {
      "text/plain": [
       "((89, 10), (89,))"
      ]
     },
     "execution_count": 27,
     "metadata": {},
     "output_type": "execute_result"
    }
   ],
   "source": [
    "x_test.shape, y_test.shape"
   ]
  },
  {
   "cell_type": "markdown",
   "id": "63c8d1e6",
   "metadata": {},
   "source": [
    "##### Import modules necessary for creating the regression model"
   ]
  },
  {
   "cell_type": "code",
   "execution_count": 47,
   "id": "32600c4f",
   "metadata": {},
   "outputs": [],
   "source": [
    "from sklearn.metrics import mean_squared_error, r2_score\n",
    "from sklearn import linear_model"
   ]
  },
  {
   "cell_type": "markdown",
   "id": "7d0978f8",
   "metadata": {},
   "source": [
    "Define the regression model"
   ]
  },
  {
   "cell_type": "code",
   "execution_count": 30,
   "id": "54a1837c",
   "metadata": {},
   "outputs": [],
   "source": [
    "model = linear_model.LinearRegression()"
   ]
  },
  {
   "cell_type": "markdown",
   "id": "8fa236a7",
   "metadata": {},
   "source": [
    "Build the training model"
   ]
  },
  {
   "cell_type": "code",
   "execution_count": 31,
   "id": "fc080590",
   "metadata": {},
   "outputs": [
    {
     "data": {
      "text/plain": [
       "LinearRegression(copy_X=True, fit_intercept=True, n_jobs=None, normalize=False)"
      ]
     },
     "execution_count": 31,
     "metadata": {},
     "output_type": "execute_result"
    }
   ],
   "source": [
    "model.fit(x_train, y_train)"
   ]
  },
  {
   "cell_type": "markdown",
   "id": "76cb5234",
   "metadata": {},
   "source": [
    "Use the trained model to make predicions on the test set"
   ]
  },
  {
   "cell_type": "code",
   "execution_count": 32,
   "id": "7b89a8a6",
   "metadata": {},
   "outputs": [],
   "source": [
    "y_pred = model.predict(x_test)"
   ]
  },
  {
   "cell_type": "markdown",
   "id": "d0108a1a",
   "metadata": {},
   "source": [
    "#### Create dictionary of dependent variables and their respective coefficients"
   ]
  },
  {
   "cell_type": "code",
   "execution_count": 56,
   "id": "ff4f282a",
   "metadata": {},
   "outputs": [],
   "source": [
    "# initiate dictionary\n",
    "coeff_dict = {}\n",
    "\n",
    "# assign the variables and respective coefficient values\n",
    "for i, coeff in enumerate(model.coef_):\n",
    "    coeff_dict[diabetes.feature_names[i]] = coeff\n"
   ]
  },
  {
   "cell_type": "code",
   "execution_count": 57,
   "id": "33f01ac0",
   "metadata": {},
   "outputs": [
    {
     "data": {
      "text/plain": [
       "{'age': -5.553229707287754,\n",
       " 'sex': -272.603425451895,\n",
       " 'bmi': 568.5898783527225,\n",
       " 'bp': 321.8981842125007,\n",
       " 's1': -495.9208158106599,\n",
       " 's2': 229.91778806747158,\n",
       " 's3': -36.211586699922094,\n",
       " 's4': 115.14349453528206,\n",
       " 's5': 692.8391512384989,\n",
       " 's6': 10.577732645385591}"
      ]
     },
     "execution_count": 57,
     "metadata": {},
     "output_type": "execute_result"
    }
   ],
   "source": [
    "coeff_dict"
   ]
  },
  {
   "cell_type": "markdown",
   "id": "73ba93a5",
   "metadata": {},
   "source": [
    "##### Print out the model performance"
   ]
  },
  {
   "cell_type": "code",
   "execution_count": 62,
   "id": "a748cc58",
   "metadata": {},
   "outputs": [
    {
     "name": "stdout",
     "output_type": "stream",
     "text": [
      "Intercept: 152.068188616067\n",
      "\n",
      "Mean Squared Error: 2978.490792556882\n",
      "\n",
      "Coefficient of determination (R^2): 0.3760946398545989\n",
      "\n",
      "Coefficients: {'age': -5.553229707287754, 'sex': -272.603425451895, 'bmi': 568.5898783527225, 'bp': 321.8981842125007, 's1': -495.9208158106599, 's2': 229.91778806747158, 's3': -36.211586699922094, 's4': 115.14349453528206, 's5': 692.8391512384989, 's6': 10.577732645385591}\n"
     ]
    }
   ],
   "source": [
    "print(f\"Intercept: {model.intercept_}\\n\")\n",
    "print(f\"Mean Squared Error: {mean_squared_error(y_test,y_pred)}\\n\")\n",
    "print(f\"Coefficient of determination (R^2): {r2_score(y_test, y_pred)}\\n\")\n",
    "print(f\"Coefficients: {coeff_dict}\")"
   ]
  },
  {
   "cell_type": "markdown",
   "id": "3d5d86c3",
   "metadata": {},
   "source": [
    "#### Import module for creating plot"
   ]
  },
  {
   "cell_type": "code",
   "execution_count": 63,
   "id": "9ced7906",
   "metadata": {},
   "outputs": [],
   "source": [
    "import seaborn as sns"
   ]
  },
  {
   "cell_type": "code",
   "execution_count": 64,
   "id": "394fbb8f",
   "metadata": {},
   "outputs": [
    {
     "data": {
      "text/plain": [
       "<matplotlib.axes._subplots.AxesSubplot at 0x21cd3463708>"
      ]
     },
     "execution_count": 64,
     "metadata": {},
     "output_type": "execute_result"
    },
    {
     "data": {
      "image/png": "[encoded data removed]",
      "text/plain": [
       "<Figure size 432x288 with 1 Axes>"
      ]
     },
     "metadata": {
      "needs_background": "light"
     },
     "output_type": "display_data"
    }
   ],
   "source": [
    "sns.scatterplot(y_test, y_pred)"
   ]
  },
  {
   "cell_type": "code",
   "execution_count": null,
   "id": "7e3dcf36",
   "metadata": {},
   "outputs": [],
   "source": []
  }
 ],
 "metadata": {
  "kernelspec": {
   "display_name": "Python 3 (ipykernel)",
   "language": "python",
   "name": "python3"
  },
  "language_info": {
   "codemirror_mode": {
    "name": "ipython",
    "version": 3
   },
   "file_extension": ".py",
   "mimetype": "text/x-python",
   "name": "python",
   "nbconvert_exporter": "python",
   "pygments_lexer": "ipython3",
   "version": "3.7.7"
  }
 },
 "nbformat": 4,
 "nbformat_minor": 5
}
