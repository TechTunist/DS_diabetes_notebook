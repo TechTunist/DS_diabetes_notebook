{
 "cells": [
  {
   "cell_type": "markdown",
   "id": "d2797e87",
   "metadata": {},
   "source": [
    "## l. Introduction"
   ]
  },
  {
   "cell_type": "markdown",
   "id": "23d4f42c",
   "metadata": {},
   "source": [
    "### 1. Identify a domain specific area:\n",
    "\n",
    "#### Bioinformatics:\n",
    "\n",
    "As an interdisciplinary field that utilises software tools to analyse biological data, bioinformatics has emerged as a crucial tool in developing insights, specifically into larger datasets that have become more numerous with the development of computer storage, processing power and means of collecting and analysing data across the fields of biology, chemistry, physics, computer science, mathematics and statistics.\n",
    "\n",
    "Some of the most noteworthy examples of bioinformatics exist in the field of genomics, where DNA sequencing has created wide ranging implications for the study of disease, human health and longevity. \n",
    "\n",
    "#### Bioinformatics used in Diabetes research\n",
    "\n",
    "Diabetes is threatening to become an epidemic of global proportions. In the United Kingdom alone, currently 4.8 million people have been diagnosed with diabetes with this number expected to climb to 5.5 million by 2030.\n",
    "(ref. https://www.diabetes.org.uk/professionals/position-statements-reports/statistics)\n",
    "\n",
    "The production of a regression model that takes various biological markers as independent variables and determines the probability that an individual is or is likely to be diabetic in the future, could be used in diagnoses and as an early warning system to allow subjects to implement certain bahavioural changes to increase the chance of a positive outcome, leading to greater longevity and a reduction of strain on health services."
   ]
  },
  {
   "cell_type": "markdown",
   "id": "6e224d61",
   "metadata": {},
   "source": [
    "### 2. Dataset:\n",
    " \n",
    "In order to attempt to satisfy the premise outlined above, the dataset needs to contain measurements of several biological markers that are posessed by subjects of the study that either have or do not have diabetes.\n",
    "\n",
    "Originally from the National Institute of Diabetes and Digestive and Kidney Diseases, this dataset was obtained from Kaggle\n",
    "https://www.kaggle.com/datasets/mathchi/diabetes-data-set\n",
    "\n",
    "It is not clear from the dataset if the outcomes as either diabetic or not diabetic were at the time of observation for the other columns in the dataset, or were recorded during follow up examinations. Without this information, the data may not provide predictive characteristics of whether an individual may develop diabetes if they currently do not have it, but this does not affect the ability of the data to train a model to predict if an individual has or does not have diabetes.\n",
    "\n",
    "The subjects of this dataset were all females of at least 21 years old, and of Pima Indian heritage. Any conclusions drawn from the analysis of this dataset should remain cognisant of the focused demographic within the dataset, and wider generalisations about differeing demographics should be made with caution."
   ]
  },
  {
   "cell_type": "markdown",
   "id": "09d9032e",
   "metadata": {},
   "source": [
    "### 3. Objectives of the Project\n",
    "\n",
    "Early diagnosis of any medical condition can dramatically increase the chance of a positive outcome. This project will attempt to create a predictive regression model take certain bio-markers as input and make a prediction with reasonable accuracy of either diabetic or not diabetic. The limitations of this project, such as the imited number and demographic of the test subjects, as well as the limited number of biomarkers observed and used as independent variables means that the model is more likely to act as a proof of concept, rather than a wholly effective predictor.\n",
    "\n",
    "With more data, more test subjects from a wider cross-section of culture and genetics, and a wider selection of predictive modelling techniques, a model with greater efficacy should be possible by following the general principles set out in this project."
   ]
  },
  {
   "cell_type": "markdown",
   "id": "c7e7222e",
   "metadata": {},
   "source": [
    "## ll. Implementation"
   ]
  },
  {
   "cell_type": "markdown",
   "id": "e4afb39d",
   "metadata": {},
   "source": [
    "### 4. Convert / store dataset locally and preprocess the data"
   ]
  },
  {
   "cell_type": "markdown",
   "id": "3ad336e4",
   "metadata": {},
   "source": [
    "#### Import pandas library for creating dataframe\n",
    " - the data will be held locally in a pandas dataframe, using pandas read_csv method"
   ]
  },
  {
   "cell_type": "code",
   "execution_count": 2,
   "id": "6285f68e",
   "metadata": {},
   "outputs": [],
   "source": [
    "import pandas as pd"
   ]
  },
  {
   "cell_type": "code",
   "execution_count": 3,
   "id": "da4954ec",
   "metadata": {},
   "outputs": [
    {
     "data": {
      "text/html": [
       "<div>\n",
       "<style scoped>\n",
       "    .dataframe tbody tr th:only-of-type {\n",
       "        vertical-align: middle;\n",
       "    }\n",
       "\n",
       "    .dataframe tbody tr th {\n",
       "        vertical-align: top;\n",
       "    }\n",
       "\n",
       "    .dataframe thead th {\n",
       "        text-align: right;\n",
       "    }\n",
       "</style>\n",
       "<table border=\"1\" class=\"dataframe\">\n",
       "  <thead>\n",
       "    <tr style=\"text-align: right;\">\n",
       "      <th></th>\n",
       "      <th>Pregnancies</th>\n",
       "      <th>Glucose</th>\n",
       "      <th>BloodPressure</th>\n",
       "      <th>SkinThickness</th>\n",
       "      <th>Insulin</th>\n",
       "      <th>BMI</th>\n",
       "      <th>DiabetesPedigreeFunction</th>\n",
       "      <th>Age</th>\n",
       "      <th>Outcome</th>\n",
       "    </tr>\n",
       "  </thead>\n",
       "  <tbody>\n",
       "    <tr>\n",
       "      <th>0</th>\n",
       "      <td>6</td>\n",
       "      <td>148</td>\n",
       "      <td>72</td>\n",
       "      <td>35</td>\n",
       "      <td>0</td>\n",
       "      <td>33.6</td>\n",
       "      <td>0.627</td>\n",
       "      <td>50</td>\n",
       "      <td>1</td>\n",
       "    </tr>\n",
       "    <tr>\n",
       "      <th>1</th>\n",
       "      <td>1</td>\n",
       "      <td>85</td>\n",
       "      <td>66</td>\n",
       "      <td>29</td>\n",
       "      <td>0</td>\n",
       "      <td>26.6</td>\n",
       "      <td>0.351</td>\n",
       "      <td>31</td>\n",
       "      <td>0</td>\n",
       "    </tr>\n",
       "    <tr>\n",
       "      <th>2</th>\n",
       "      <td>8</td>\n",
       "      <td>183</td>\n",
       "      <td>64</td>\n",
       "      <td>0</td>\n",
       "      <td>0</td>\n",
       "      <td>23.3</td>\n",
       "      <td>0.672</td>\n",
       "      <td>32</td>\n",
       "      <td>1</td>\n",
       "    </tr>\n",
       "    <tr>\n",
       "      <th>3</th>\n",
       "      <td>1</td>\n",
       "      <td>89</td>\n",
       "      <td>66</td>\n",
       "      <td>23</td>\n",
       "      <td>94</td>\n",
       "      <td>28.1</td>\n",
       "      <td>0.167</td>\n",
       "      <td>21</td>\n",
       "      <td>0</td>\n",
       "    </tr>\n",
       "    <tr>\n",
       "      <th>4</th>\n",
       "      <td>0</td>\n",
       "      <td>137</td>\n",
       "      <td>40</td>\n",
       "      <td>35</td>\n",
       "      <td>168</td>\n",
       "      <td>43.1</td>\n",
       "      <td>2.288</td>\n",
       "      <td>33</td>\n",
       "      <td>1</td>\n",
       "    </tr>\n",
       "    <tr>\n",
       "      <th>5</th>\n",
       "      <td>5</td>\n",
       "      <td>116</td>\n",
       "      <td>74</td>\n",
       "      <td>0</td>\n",
       "      <td>0</td>\n",
       "      <td>25.6</td>\n",
       "      <td>0.201</td>\n",
       "      <td>30</td>\n",
       "      <td>0</td>\n",
       "    </tr>\n",
       "    <tr>\n",
       "      <th>6</th>\n",
       "      <td>3</td>\n",
       "      <td>78</td>\n",
       "      <td>50</td>\n",
       "      <td>32</td>\n",
       "      <td>88</td>\n",
       "      <td>31.0</td>\n",
       "      <td>0.248</td>\n",
       "      <td>26</td>\n",
       "      <td>1</td>\n",
       "    </tr>\n",
       "    <tr>\n",
       "      <th>7</th>\n",
       "      <td>10</td>\n",
       "      <td>115</td>\n",
       "      <td>0</td>\n",
       "      <td>0</td>\n",
       "      <td>0</td>\n",
       "      <td>35.3</td>\n",
       "      <td>0.134</td>\n",
       "      <td>29</td>\n",
       "      <td>0</td>\n",
       "    </tr>\n",
       "    <tr>\n",
       "      <th>8</th>\n",
       "      <td>2</td>\n",
       "      <td>197</td>\n",
       "      <td>70</td>\n",
       "      <td>45</td>\n",
       "      <td>543</td>\n",
       "      <td>30.5</td>\n",
       "      <td>0.158</td>\n",
       "      <td>53</td>\n",
       "      <td>1</td>\n",
       "    </tr>\n",
       "    <tr>\n",
       "      <th>9</th>\n",
       "      <td>8</td>\n",
       "      <td>125</td>\n",
       "      <td>96</td>\n",
       "      <td>0</td>\n",
       "      <td>0</td>\n",
       "      <td>0.0</td>\n",
       "      <td>0.232</td>\n",
       "      <td>54</td>\n",
       "      <td>1</td>\n",
       "    </tr>\n",
       "  </tbody>\n",
       "</table>\n",
       "</div>"
      ],
      "text/plain": [
       "   Pregnancies  Glucose  BloodPressure  SkinThickness  Insulin   BMI  \\\n",
       "0            6      148             72             35        0  33.6   \n",
       "1            1       85             66             29        0  26.6   \n",
       "2            8      183             64              0        0  23.3   \n",
       "3            1       89             66             23       94  28.1   \n",
       "4            0      137             40             35      168  43.1   \n",
       "5            5      116             74              0        0  25.6   \n",
       "6            3       78             50             32       88  31.0   \n",
       "7           10      115              0              0        0  35.3   \n",
       "8            2      197             70             45      543  30.5   \n",
       "9            8      125             96              0        0   0.0   \n",
       "\n",
       "   DiabetesPedigreeFunction  Age  Outcome  \n",
       "0                     0.627   50        1  \n",
       "1                     0.351   31        0  \n",
       "2                     0.672   32        1  \n",
       "3                     0.167   21        0  \n",
       "4                     2.288   33        1  \n",
       "5                     0.201   30        0  \n",
       "6                     0.248   26        1  \n",
       "7                     0.134   29        0  \n",
       "8                     0.158   53        1  \n",
       "9                     0.232   54        1  "
      ]
     },
     "execution_count": 3,
     "metadata": {},
     "output_type": "execute_result"
    }
   ],
   "source": [
    "# create and check dataframe\n",
    "df = pd.read_csv('data/diabetes.csv')\n",
    "\n",
    "# check the first 10 rows of data\n",
    "df.head(10)"
   ]
  },
  {
   "cell_type": "markdown",
   "id": "b746b4bc",
   "metadata": {},
   "source": [
    "#### The table appears to comply with 1NF, 2NF and 3NF:\n",
    "There is a single primary key, no duplication of data and no transitive dependencies."
   ]
  },
  {
   "cell_type": "markdown",
   "id": "4f576eee",
   "metadata": {},
   "source": [
    "### Database overview:\n",
    " - Pregnancies: Number of times pregnant\n",
    " - Glucose: Plasma glucose concentration a 2 hours in an oral glucose tolerance test\n",
    " - BloodPressure: Diastolic blood pressure (mm Hg)\n",
    " - SkinThickness: Triceps skin fold thickness (mm)\n",
    " - Insulin: 2-Hour serum insulin (mu U/ml)\n",
    " - BMI: Body mass index (weight in kg/(height in m)^2)\n",
    " - DiabetesPedigreeFunction: Function which scores the likelihood of diabetes based on family history\n",
    " - Age: Age (years)\n",
    " - Outcome: (Class variable) 1 = positive for diabetes, 0 = negative for diabetes"
   ]
  },
  {
   "cell_type": "markdown",
   "id": "e8d374dd",
   "metadata": {},
   "source": [
    "#### Determine the shape of the data"
   ]
  },
  {
   "cell_type": "code",
   "execution_count": 4,
   "id": "79fe44f4",
   "metadata": {},
   "outputs": [
    {
     "data": {
      "text/plain": [
       "(768, 9)"
      ]
     },
     "execution_count": 4,
     "metadata": {},
     "output_type": "execute_result"
    }
   ],
   "source": [
    "# get the number of rows (records) and columns (dependent variables)\n",
    "df.shape"
   ]
  },
  {
   "cell_type": "markdown",
   "id": "eeeaa06a",
   "metadata": {},
   "source": [
    "The data has <b>768 records</b> and <b>9 fields</b>"
   ]
  },
  {
   "cell_type": "markdown",
   "id": "4adf0a02",
   "metadata": {},
   "source": [
    "#### Check for null / na values"
   ]
  },
  {
   "cell_type": "code",
   "execution_count": 5,
   "id": "0c971e40",
   "metadata": {},
   "outputs": [
    {
     "name": "stdout",
     "output_type": "stream",
     "text": [
      "Pregnancies                 False\n",
      "Glucose                     False\n",
      "BloodPressure               False\n",
      "SkinThickness               False\n",
      "Insulin                     False\n",
      "BMI                         False\n",
      "DiabetesPedigreeFunction    False\n",
      "Age                         False\n",
      "Outcome                     False\n",
      "dtype: bool\n",
      "\n",
      "Pregnancies                 False\n",
      "Glucose                     False\n",
      "BloodPressure               False\n",
      "SkinThickness               False\n",
      "Insulin                     False\n",
      "BMI                         False\n",
      "DiabetesPedigreeFunction    False\n",
      "Age                         False\n",
      "Outcome                     False\n",
      "dtype: bool\n"
     ]
    }
   ],
   "source": [
    "# check if any na values exist\n",
    "print(df.isna().any())\n",
    "\n",
    "# create a blank line to separate print statements\n",
    "print()\n",
    "\n",
    "# check if any null values exist\n",
    "print(df.isnull().any())"
   ]
  },
  {
   "cell_type": "markdown",
   "id": "4d03aa72",
   "metadata": {},
   "source": [
    "#### There are no null/na values in any fields of the database"
   ]
  },
  {
   "cell_type": "markdown",
   "id": "1920b39c",
   "metadata": {},
   "source": [
    "### Central tendency\n",
    "\n",
    "#### Generate some descriptive statistics about the database including:\n",
    " - central tendency\n",
    " - dispersion\n",
    " - standard deviation\n",
    " - mean values\n",
    " - max values"
   ]
  },
  {
   "cell_type": "code",
   "execution_count": 50,
   "id": "a476496c",
   "metadata": {},
   "outputs": [
    {
     "data": {
      "text/html": [
       "<div>\n",
       "<style scoped>\n",
       "    .dataframe tbody tr th:only-of-type {\n",
       "        vertical-align: middle;\n",
       "    }\n",
       "\n",
       "    .dataframe tbody tr th {\n",
       "        vertical-align: top;\n",
       "    }\n",
       "\n",
       "    .dataframe thead th {\n",
       "        text-align: right;\n",
       "    }\n",
       "</style>\n",
       "<table border=\"1\" class=\"dataframe\">\n",
       "  <thead>\n",
       "    <tr style=\"text-align: right;\">\n",
       "      <th></th>\n",
       "      <th>Pregnancies</th>\n",
       "      <th>Glucose</th>\n",
       "      <th>BloodPressure</th>\n",
       "      <th>SkinThickness</th>\n",
       "      <th>Insulin</th>\n",
       "      <th>BMI</th>\n",
       "      <th>DiabetesPedigreeFunction</th>\n",
       "      <th>Age</th>\n",
       "      <th>Outcome</th>\n",
       "    </tr>\n",
       "  </thead>\n",
       "  <tbody>\n",
       "    <tr>\n",
       "      <th>count</th>\n",
       "      <td>768.000000</td>\n",
       "      <td>768.000000</td>\n",
       "      <td>768.000000</td>\n",
       "      <td>768.000000</td>\n",
       "      <td>768.000000</td>\n",
       "      <td>768.000000</td>\n",
       "      <td>768.000000</td>\n",
       "      <td>768.000000</td>\n",
       "      <td>768.000000</td>\n",
       "    </tr>\n",
       "    <tr>\n",
       "      <th>mean</th>\n",
       "      <td>3.845052</td>\n",
       "      <td>120.894531</td>\n",
       "      <td>69.105469</td>\n",
       "      <td>20.536458</td>\n",
       "      <td>79.799479</td>\n",
       "      <td>31.992578</td>\n",
       "      <td>0.471876</td>\n",
       "      <td>33.240885</td>\n",
       "      <td>0.348958</td>\n",
       "    </tr>\n",
       "    <tr>\n",
       "      <th>std</th>\n",
       "      <td>3.369578</td>\n",
       "      <td>31.972618</td>\n",
       "      <td>19.355807</td>\n",
       "      <td>15.952218</td>\n",
       "      <td>115.244002</td>\n",
       "      <td>7.884160</td>\n",
       "      <td>0.331329</td>\n",
       "      <td>11.760232</td>\n",
       "      <td>0.476951</td>\n",
       "    </tr>\n",
       "    <tr>\n",
       "      <th>min</th>\n",
       "      <td>0.000000</td>\n",
       "      <td>0.000000</td>\n",
       "      <td>0.000000</td>\n",
       "      <td>0.000000</td>\n",
       "      <td>0.000000</td>\n",
       "      <td>0.000000</td>\n",
       "      <td>0.078000</td>\n",
       "      <td>21.000000</td>\n",
       "      <td>0.000000</td>\n",
       "    </tr>\n",
       "    <tr>\n",
       "      <th>25%</th>\n",
       "      <td>1.000000</td>\n",
       "      <td>99.000000</td>\n",
       "      <td>62.000000</td>\n",
       "      <td>0.000000</td>\n",
       "      <td>0.000000</td>\n",
       "      <td>27.300000</td>\n",
       "      <td>0.243750</td>\n",
       "      <td>24.000000</td>\n",
       "      <td>0.000000</td>\n",
       "    </tr>\n",
       "    <tr>\n",
       "      <th>50%</th>\n",
       "      <td>3.000000</td>\n",
       "      <td>117.000000</td>\n",
       "      <td>72.000000</td>\n",
       "      <td>23.000000</td>\n",
       "      <td>30.500000</td>\n",
       "      <td>32.000000</td>\n",
       "      <td>0.372500</td>\n",
       "      <td>29.000000</td>\n",
       "      <td>0.000000</td>\n",
       "    </tr>\n",
       "    <tr>\n",
       "      <th>75%</th>\n",
       "      <td>6.000000</td>\n",
       "      <td>140.250000</td>\n",
       "      <td>80.000000</td>\n",
       "      <td>32.000000</td>\n",
       "      <td>127.250000</td>\n",
       "      <td>36.600000</td>\n",
       "      <td>0.626250</td>\n",
       "      <td>41.000000</td>\n",
       "      <td>1.000000</td>\n",
       "    </tr>\n",
       "    <tr>\n",
       "      <th>max</th>\n",
       "      <td>17.000000</td>\n",
       "      <td>199.000000</td>\n",
       "      <td>122.000000</td>\n",
       "      <td>99.000000</td>\n",
       "      <td>846.000000</td>\n",
       "      <td>67.100000</td>\n",
       "      <td>2.420000</td>\n",
       "      <td>81.000000</td>\n",
       "      <td>1.000000</td>\n",
       "    </tr>\n",
       "  </tbody>\n",
       "</table>\n",
       "</div>"
      ],
      "text/plain": [
       "       Pregnancies     Glucose  BloodPressure  SkinThickness     Insulin  \\\n",
       "count   768.000000  768.000000     768.000000     768.000000  768.000000   \n",
       "mean      3.845052  120.894531      69.105469      20.536458   79.799479   \n",
       "std       3.369578   31.972618      19.355807      15.952218  115.244002   \n",
       "min       0.000000    0.000000       0.000000       0.000000    0.000000   \n",
       "25%       1.000000   99.000000      62.000000       0.000000    0.000000   \n",
       "50%       3.000000  117.000000      72.000000      23.000000   30.500000   \n",
       "75%       6.000000  140.250000      80.000000      32.000000  127.250000   \n",
       "max      17.000000  199.000000     122.000000      99.000000  846.000000   \n",
       "\n",
       "              BMI  DiabetesPedigreeFunction         Age     Outcome  \n",
       "count  768.000000                768.000000  768.000000  768.000000  \n",
       "mean    31.992578                  0.471876   33.240885    0.348958  \n",
       "std      7.884160                  0.331329   11.760232    0.476951  \n",
       "min      0.000000                  0.078000   21.000000    0.000000  \n",
       "25%     27.300000                  0.243750   24.000000    0.000000  \n",
       "50%     32.000000                  0.372500   29.000000    0.000000  \n",
       "75%     36.600000                  0.626250   41.000000    1.000000  \n",
       "max     67.100000                  2.420000   81.000000    1.000000  "
      ]
     },
     "execution_count": 50,
     "metadata": {},
     "output_type": "execute_result"
    }
   ],
   "source": [
    "# print out an overview of descriptive statistics about the dataset\n",
    "df.describe()"
   ]
  },
  {
   "cell_type": "markdown",
   "id": "41c458e5",
   "metadata": {},
   "source": [
    "#### Import matplotlib and seaborn for data visualisation\n",
    "The inline backend embeds the plots directly into the notebook"
   ]
  },
  {
   "cell_type": "code",
   "execution_count": 57,
   "id": "b9fd6570",
   "metadata": {},
   "outputs": [],
   "source": [
    "%matplotlib inline\n",
    "from matplotlib import pyplot as plt\n",
    "import seaborn as sns\n",
    "import numpy as np"
   ]
  },
  {
   "cell_type": "markdown",
   "id": "419f460f",
   "metadata": {},
   "source": [
    "#### Plot the mean and median of the frequency of certain glucose levels throughout the entire dataset"
   ]
  },
  {
   "cell_type": "code",
   "execution_count": 115,
   "id": "d4c9d7c1",
   "metadata": {},
   "outputs": [
    {
     "data": {
      "text/plain": [
       "Text(150, 96, 'median')"
      ]
     },
     "execution_count": 115,
     "metadata": {},
     "output_type": "execute_result"
    },
    {
     "data": {
      "image/png": "[encoded data removed]",
      "text/plain": [
       "<Figure size 640x480 with 1 Axes>"
      ]
     },
     "metadata": {},
     "output_type": "display_data"
    }
   ],
   "source": [
    "sns.histplot(data = df, x=df['Glucose'], kde=True)\n",
    "\n",
    "# add mean and label\n",
    "plt.axvline(x=df['Glucose'].mean(), color='red')\n",
    "plt.annotate('mean', xy=(120,104), xytext=(150,103),\n",
    "            arrowprops=dict(facecolor='red', shrink=0.05))\n",
    "\n",
    "# add median and label\n",
    "plt.axvline(x=df['Glucose'].median(), color='orange')\n",
    "plt.annotate('median', xy=(116,95), xytext=(150,96),\n",
    "            arrowprops=dict(facecolor='orange', shrink=0.05))\n"
   ]
  },
  {
   "cell_type": "markdown",
   "id": "4b0922d6",
   "metadata": {},
   "source": [
    "# TO DO:\n",
    "\n",
    "## SHOW STANDARD DEVIATION, AND MEAN, MEDIAN, MODE ON OTHER COLUMNS"
   ]
  },
  {
   "cell_type": "markdown",
   "id": "ae77b521",
   "metadata": {},
   "source": [
    "#### Check if the dataset is balanced in terms of outcomes"
   ]
  },
  {
   "cell_type": "code",
   "execution_count": 8,
   "id": "10b14304",
   "metadata": {},
   "outputs": [
    {
     "data": {
      "text/plain": [
       "0    500\n",
       "1    268\n",
       "Name: Outcome, dtype: int64"
      ]
     },
     "execution_count": 8,
     "metadata": {},
     "output_type": "execute_result"
    },
    {
     "data": {
      "image/png": "[encoded data removed]",
      "text/plain": [
       "<Figure size 640x480 with 1 Axes>"
      ]
     },
     "metadata": {},
     "output_type": "display_data"
    }
   ],
   "source": [
    "# create a pandas series object\n",
    "counts = df['Outcome'].value_counts()\n",
    "\n",
    "# plot bar chart showing outcomes\n",
    "outcomes = counts.plot(kind='bar', )\n",
    "outcomes.set_title('Subject Outcomes')\n",
    "outcomes.set_xlabel('0 = negative   1 = positive')\n",
    "outcomes.set_ylabel('records')\n",
    "\n",
    "# show the number of positive and negative outcomes\n",
    "counts"
   ]
  },
  {
   "cell_type": "markdown",
   "id": "9dcfdccf",
   "metadata": {},
   "source": [
    "#### The dataset has significantly higher negative than positive diabetes disgnoses"
   ]
  },
  {
   "cell_type": "markdown",
   "id": "c8ca82fe",
   "metadata": {},
   "source": [
    "#### Intuitively, the serum glucose levels seems significant\n",
    "Plot the glucose level against the number of records, differentiating between positive and negative outcomes"
   ]
  },
  {
   "cell_type": "code",
   "execution_count": 120,
   "id": "6a3e9d5f",
   "metadata": {},
   "outputs": [
    {
     "data": {
      "text/plain": [
       "<matplotlib.axes._subplots.AxesSubplot at 0x230f7a0ad08>"
      ]
     },
     "execution_count": 120,
     "metadata": {},
     "output_type": "execute_result"
    },
    {
     "data": {
      "image/png": "[encoded data removed]",
      "text/plain": [
       "<Figure size 640x480 with 1 Axes>"
      ]
     },
     "metadata": {},
     "output_type": "display_data"
    }
   ],
   "source": [
    "sns.histplot(data = df, x=df['Glucose'], hue=df['Outcome'], multiple ='dodge', kde=True)"
   ]
  },
  {
   "cell_type": "markdown",
   "id": "eb1e87d4",
   "metadata": {},
   "source": [
    "#### Negative Outcomes:\n",
    " - close to a normal distribution with minor positive skewness\n",
    " - relatively high peak creating a Leptokurtic curve\n",
    " \n",
    "#### Positive Outcomes:\n",
    " - stronger positive skewness with a large tail to the right side of the mode\n",
    " - flat-topped Platykurtic curve\n",
    " \n",
    "####  The difference in heights of the curves could be related to a higher no. of negative records than positive in the dataset"
   ]
  },
  {
   "cell_type": "markdown",
   "id": "245bbd1f",
   "metadata": {},
   "source": [
    "### Normalise the outcomes for cleaner comparison"
   ]
  },
  {
   "cell_type": "code",
   "execution_count": 27,
   "id": "f77a7d1b",
   "metadata": {},
   "outputs": [
    {
     "data": {
      "text/plain": [
       "1    268\n",
       "0    268\n",
       "Name: Outcome, dtype: int64"
      ]
     },
     "execution_count": 27,
     "metadata": {},
     "output_type": "execute_result"
    }
   ],
   "source": [
    "# create separate dataframes by outcome \n",
    "df_1 = df[df['Outcome'] == 1]\n",
    "df_0 = df[df['Outcome'] == 0]\n",
    "\n",
    "# take a sample of records from the negative that matches the less numerous positive records in size\n",
    "df_0_sample = df_0.sample(268,replace = False)\n",
    "\n",
    "# concatenate the 2 dataframes back together\n",
    "df_equal = pd.concat([df_1, df_0_sample])\n",
    "\n",
    "# check the number of records for each outcome in new balanced dataframe\n",
    "df_equal['Outcome'].value_counts()"
   ]
  },
  {
   "cell_type": "markdown",
   "id": "7aab3547",
   "metadata": {},
   "source": [
    "#### Replot the graph above with normalised outcomes"
   ]
  },
  {
   "cell_type": "code",
   "execution_count": 119,
   "id": "dd00e796",
   "metadata": {},
   "outputs": [
    {
     "data": {
      "text/plain": [
       "<matplotlib.axes._subplots.AxesSubplot at 0x230f7af4648>"
      ]
     },
     "execution_count": 119,
     "metadata": {},
     "output_type": "execute_result"
    },
    {
     "data": {
      "image/png": "[encoded data removed]",
      "text/plain": [
       "<Figure size 640x480 with 1 Axes>"
      ]
     },
     "metadata": {},
     "output_type": "display_data"
    }
   ],
   "source": [
    "sns.histplot(data = df_equal, x=df_equal['Glucose'], hue=df_equal['Outcome'], multiple ='dodge', kde=True)"
   ]
  },
  {
   "cell_type": "markdown",
   "id": "74831bce",
   "metadata": {},
   "source": [
    "#### The principle of the data remains the same, despite the differrence between the curves being less dramatic"
   ]
  },
  {
   "cell_type": "markdown",
   "id": "a7e1f579",
   "metadata": {},
   "source": [
    "### Use pandas corr() function to look for further correlation of features"
   ]
  },
  {
   "cell_type": "code",
   "execution_count": 17,
   "id": "36fd9f5b",
   "metadata": {},
   "outputs": [
    {
     "data": {
      "text/html": [
       "<div>\n",
       "<style scoped>\n",
       "    .dataframe tbody tr th:only-of-type {\n",
       "        vertical-align: middle;\n",
       "    }\n",
       "\n",
       "    .dataframe tbody tr th {\n",
       "        vertical-align: top;\n",
       "    }\n",
       "\n",
       "    .dataframe thead th {\n",
       "        text-align: right;\n",
       "    }\n",
       "</style>\n",
       "<table border=\"1\" class=\"dataframe\">\n",
       "  <thead>\n",
       "    <tr style=\"text-align: right;\">\n",
       "      <th></th>\n",
       "      <th>Pregnancies</th>\n",
       "      <th>Glucose</th>\n",
       "      <th>BloodPressure</th>\n",
       "      <th>SkinThickness</th>\n",
       "      <th>Insulin</th>\n",
       "      <th>BMI</th>\n",
       "      <th>DiabetesPedigreeFunction</th>\n",
       "      <th>Age</th>\n",
       "      <th>Outcome</th>\n",
       "    </tr>\n",
       "  </thead>\n",
       "  <tbody>\n",
       "    <tr>\n",
       "      <th>Outcome</th>\n",
       "      <td>0.221898</td>\n",
       "      <td>0.466581</td>\n",
       "      <td>0.065068</td>\n",
       "      <td>0.074752</td>\n",
       "      <td>0.130548</td>\n",
       "      <td>0.292695</td>\n",
       "      <td>0.173844</td>\n",
       "      <td>0.238356</td>\n",
       "      <td>1.000000</td>\n",
       "    </tr>\n",
       "    <tr>\n",
       "      <th>Glucose</th>\n",
       "      <td>0.129459</td>\n",
       "      <td>1.000000</td>\n",
       "      <td>0.152590</td>\n",
       "      <td>0.057328</td>\n",
       "      <td>0.331357</td>\n",
       "      <td>0.221071</td>\n",
       "      <td>0.137337</td>\n",
       "      <td>0.263514</td>\n",
       "      <td>0.466581</td>\n",
       "    </tr>\n",
       "    <tr>\n",
       "      <th>BMI</th>\n",
       "      <td>0.017683</td>\n",
       "      <td>0.221071</td>\n",
       "      <td>0.281805</td>\n",
       "      <td>0.392573</td>\n",
       "      <td>0.197859</td>\n",
       "      <td>1.000000</td>\n",
       "      <td>0.140647</td>\n",
       "      <td>0.036242</td>\n",
       "      <td>0.292695</td>\n",
       "    </tr>\n",
       "    <tr>\n",
       "      <th>Age</th>\n",
       "      <td>0.544341</td>\n",
       "      <td>0.263514</td>\n",
       "      <td>0.239528</td>\n",
       "      <td>-0.113970</td>\n",
       "      <td>-0.042163</td>\n",
       "      <td>0.036242</td>\n",
       "      <td>0.033561</td>\n",
       "      <td>1.000000</td>\n",
       "      <td>0.238356</td>\n",
       "    </tr>\n",
       "    <tr>\n",
       "      <th>Pregnancies</th>\n",
       "      <td>1.000000</td>\n",
       "      <td>0.129459</td>\n",
       "      <td>0.141282</td>\n",
       "      <td>-0.081672</td>\n",
       "      <td>-0.073535</td>\n",
       "      <td>0.017683</td>\n",
       "      <td>-0.033523</td>\n",
       "      <td>0.544341</td>\n",
       "      <td>0.221898</td>\n",
       "    </tr>\n",
       "    <tr>\n",
       "      <th>DiabetesPedigreeFunction</th>\n",
       "      <td>-0.033523</td>\n",
       "      <td>0.137337</td>\n",
       "      <td>0.041265</td>\n",
       "      <td>0.183928</td>\n",
       "      <td>0.185071</td>\n",
       "      <td>0.140647</td>\n",
       "      <td>1.000000</td>\n",
       "      <td>0.033561</td>\n",
       "      <td>0.173844</td>\n",
       "    </tr>\n",
       "    <tr>\n",
       "      <th>Insulin</th>\n",
       "      <td>-0.073535</td>\n",
       "      <td>0.331357</td>\n",
       "      <td>0.088933</td>\n",
       "      <td>0.436783</td>\n",
       "      <td>1.000000</td>\n",
       "      <td>0.197859</td>\n",
       "      <td>0.185071</td>\n",
       "      <td>-0.042163</td>\n",
       "      <td>0.130548</td>\n",
       "    </tr>\n",
       "    <tr>\n",
       "      <th>SkinThickness</th>\n",
       "      <td>-0.081672</td>\n",
       "      <td>0.057328</td>\n",
       "      <td>0.207371</td>\n",
       "      <td>1.000000</td>\n",
       "      <td>0.436783</td>\n",
       "      <td>0.392573</td>\n",
       "      <td>0.183928</td>\n",
       "      <td>-0.113970</td>\n",
       "      <td>0.074752</td>\n",
       "    </tr>\n",
       "    <tr>\n",
       "      <th>BloodPressure</th>\n",
       "      <td>0.141282</td>\n",
       "      <td>0.152590</td>\n",
       "      <td>1.000000</td>\n",
       "      <td>0.207371</td>\n",
       "      <td>0.088933</td>\n",
       "      <td>0.281805</td>\n",
       "      <td>0.041265</td>\n",
       "      <td>0.239528</td>\n",
       "      <td>0.065068</td>\n",
       "    </tr>\n",
       "  </tbody>\n",
       "</table>\n",
       "</div>"
      ],
      "text/plain": [
       "                          Pregnancies   Glucose  BloodPressure  SkinThickness  \\\n",
       "Outcome                      0.221898  0.466581       0.065068       0.074752   \n",
       "Glucose                      0.129459  1.000000       0.152590       0.057328   \n",
       "BMI                          0.017683  0.221071       0.281805       0.392573   \n",
       "Age                          0.544341  0.263514       0.239528      -0.113970   \n",
       "Pregnancies                  1.000000  0.129459       0.141282      -0.081672   \n",
       "DiabetesPedigreeFunction    -0.033523  0.137337       0.041265       0.183928   \n",
       "Insulin                     -0.073535  0.331357       0.088933       0.436783   \n",
       "SkinThickness               -0.081672  0.057328       0.207371       1.000000   \n",
       "BloodPressure                0.141282  0.152590       1.000000       0.207371   \n",
       "\n",
       "                           Insulin       BMI  DiabetesPedigreeFunction  \\\n",
       "Outcome                   0.130548  0.292695                  0.173844   \n",
       "Glucose                   0.331357  0.221071                  0.137337   \n",
       "BMI                       0.197859  1.000000                  0.140647   \n",
       "Age                      -0.042163  0.036242                  0.033561   \n",
       "Pregnancies              -0.073535  0.017683                 -0.033523   \n",
       "DiabetesPedigreeFunction  0.185071  0.140647                  1.000000   \n",
       "Insulin                   1.000000  0.197859                  0.185071   \n",
       "SkinThickness             0.436783  0.392573                  0.183928   \n",
       "BloodPressure             0.088933  0.281805                  0.041265   \n",
       "\n",
       "                               Age   Outcome  \n",
       "Outcome                   0.238356  1.000000  \n",
       "Glucose                   0.263514  0.466581  \n",
       "BMI                       0.036242  0.292695  \n",
       "Age                       1.000000  0.238356  \n",
       "Pregnancies               0.544341  0.221898  \n",
       "DiabetesPedigreeFunction  0.033561  0.173844  \n",
       "Insulin                  -0.042163  0.130548  \n",
       "SkinThickness            -0.113970  0.074752  \n",
       "BloodPressure             0.239528  0.065068  "
      ]
     },
     "execution_count": 17,
     "metadata": {},
     "output_type": "execute_result"
    }
   ],
   "source": [
    "corr = df.corr()\n",
    "corr.sort_values('Outcome', ascending=False)"
   ]
  },
  {
   "cell_type": "markdown",
   "id": "9ec15463",
   "metadata": {},
   "source": [
    "#### Create a heatmap to help visualise the correlation"
   ]
  },
  {
   "cell_type": "code",
   "execution_count": 18,
   "id": "a80e3aa0",
   "metadata": {},
   "outputs": [
    {
     "data": {
      "text/plain": [
       "<matplotlib.axes._subplots.AxesSubplot at 0x230eaa4a088>"
      ]
     },
     "execution_count": 18,
     "metadata": {},
     "output_type": "execute_result"
    },
    {
     "data": {
      "image/png": "[encoded data removed]",
      "text/plain": [
       "<Figure size 640x480 with 2 Axes>"
      ]
     },
     "metadata": {},
     "output_type": "display_data"
    }
   ],
   "source": [
    "sns.heatmap(corr, xticklabels=corr.columns, yticklabels=corr.columns)"
   ]
  },
  {
   "cell_type": "markdown",
   "id": "20a4a0c6",
   "metadata": {},
   "source": [
    "#### Brighter colour indicates stronger correlation\n",
    " - As expected, glucose has a strong corellation with outcome, as does BMI\n",
    " - Inversely, skin thickness and blood pressure have weaker corellation with outcome\n",
    " - The diabetes pedigree function has a weaker corellation than my intuition suggested"
   ]
  },
  {
   "cell_type": "markdown",
   "id": "2f5170bc",
   "metadata": {},
   "source": [
    "#### Plot the BMI frequency differentiating between outcomes\n",
    " - This time plot the balanced outcomes dataframe next to the original dataframe for comparison "
   ]
  },
  {
   "cell_type": "code",
   "execution_count": 116,
   "id": "5ef5f0fb",
   "metadata": {},
   "outputs": [
    {
     "data": {
      "text/plain": [
       "[Text(0.5, 1.0, 'Balanced DF')]"
      ]
     },
     "execution_count": 116,
     "metadata": {},
     "output_type": "execute_result"
    },
    {
     "data": {
      "image/png": "[encoded data removed]",
      "text/plain": [
       "<Figure size 640x480 with 2 Axes>"
      ]
     },
     "metadata": {},
     "output_type": "display_data"
    }
   ],
   "source": [
    "# initiate separate axes to be plotted in 2 columns sharing both axes\n",
    "fig, (ax1, ax2) = plt.subplots(ncols=2, sharey=True, sharex=True)\n",
    "\n",
    "\n",
    "sns.histplot(data = df, x=df['BMI'], hue=df['Outcome'], multiple ='dodge', kde=True, ax = ax1).set(title='Original DF')\n",
    "sns.histplot(data = df_equal, x=df_equal['BMI'], hue=df_equal['Outcome'], multiple ='dodge', kde=True, ax=ax2).set(title='Balanced DF')"
   ]
  },
  {
   "cell_type": "markdown",
   "id": "a2f5f391",
   "metadata": {},
   "source": [
    "#### Here we can observe the importance of normalising the outcome data. The highest peak of the kernel density estimation of the histogram plots flip with normalised data. This time both plots resemble a normal distribution \n",
    "\n",
    "The correlation between BMI and outcome is still visible but not as clearly defined with normalised outcome data"
   ]
  },
  {
   "cell_type": "markdown",
   "id": "7628ad29",
   "metadata": {},
   "source": [
    "#### The first 8 columns are independent variables, and the 'outcome' column is the target to predict, or the 'y' variable in the regression model"
   ]
  },
  {
   "cell_type": "code",
   "execution_count": 141,
   "id": "fc82874b",
   "metadata": {},
   "outputs": [
    {
     "name": "stdout",
     "output_type": "stream",
     "text": [
      "['Pregnancies', 'Glucose', 'BloodPressure', 'SkinThickness', 'Insulin', 'BMI', 'DiabetesPedigreeFunction', 'Age']\n"
     ]
    }
   ],
   "source": [
    "# establish a list of feature names, and delete 'outcome'\n",
    "features = list(df)\n",
    "features.remove('Outcome')\n",
    "print(features)"
   ]
  },
  {
   "cell_type": "markdown",
   "id": "46bb30ab",
   "metadata": {},
   "source": [
    "# Linear Regression Model\n",
    "\n",
    "https://www.kaggle.com/code/anuragpathak123/diabetesprediction"
   ]
  },
  {
   "cell_type": "markdown",
   "id": "5286503c",
   "metadata": {},
   "source": [
    "### Prepare data for use in linear regression model\n",
    " - create a new dataframe of features by dropping the final column 'outcome' from the original dataframe\n",
    " - create a new dataframe that just holds the 'y' variable 'outcome'\n",
    " - test balanced and original dataframe for accuracy"
   ]
  },
  {
   "cell_type": "code",
   "execution_count": 122,
   "id": "b8ee3a11",
   "metadata": {},
   "outputs": [
    {
     "data": {
      "text/html": [
       "<div>\n",
       "<style scoped>\n",
       "    .dataframe tbody tr th:only-of-type {\n",
       "        vertical-align: middle;\n",
       "    }\n",
       "\n",
       "    .dataframe tbody tr th {\n",
       "        vertical-align: top;\n",
       "    }\n",
       "\n",
       "    .dataframe thead th {\n",
       "        text-align: right;\n",
       "    }\n",
       "</style>\n",
       "<table border=\"1\" class=\"dataframe\">\n",
       "  <thead>\n",
       "    <tr style=\"text-align: right;\">\n",
       "      <th></th>\n",
       "      <th>Pregnancies</th>\n",
       "      <th>Glucose</th>\n",
       "      <th>BloodPressure</th>\n",
       "      <th>SkinThickness</th>\n",
       "      <th>Insulin</th>\n",
       "      <th>BMI</th>\n",
       "      <th>DiabetesPedigreeFunction</th>\n",
       "      <th>Age</th>\n",
       "    </tr>\n",
       "  </thead>\n",
       "  <tbody>\n",
       "    <tr>\n",
       "      <th>0</th>\n",
       "      <td>6</td>\n",
       "      <td>148</td>\n",
       "      <td>72</td>\n",
       "      <td>35</td>\n",
       "      <td>0</td>\n",
       "      <td>33.6</td>\n",
       "      <td>0.627</td>\n",
       "      <td>50</td>\n",
       "    </tr>\n",
       "    <tr>\n",
       "      <th>1</th>\n",
       "      <td>1</td>\n",
       "      <td>85</td>\n",
       "      <td>66</td>\n",
       "      <td>29</td>\n",
       "      <td>0</td>\n",
       "      <td>26.6</td>\n",
       "      <td>0.351</td>\n",
       "      <td>31</td>\n",
       "    </tr>\n",
       "    <tr>\n",
       "      <th>2</th>\n",
       "      <td>8</td>\n",
       "      <td>183</td>\n",
       "      <td>64</td>\n",
       "      <td>0</td>\n",
       "      <td>0</td>\n",
       "      <td>23.3</td>\n",
       "      <td>0.672</td>\n",
       "      <td>32</td>\n",
       "    </tr>\n",
       "    <tr>\n",
       "      <th>3</th>\n",
       "      <td>1</td>\n",
       "      <td>89</td>\n",
       "      <td>66</td>\n",
       "      <td>23</td>\n",
       "      <td>94</td>\n",
       "      <td>28.1</td>\n",
       "      <td>0.167</td>\n",
       "      <td>21</td>\n",
       "    </tr>\n",
       "    <tr>\n",
       "      <th>4</th>\n",
       "      <td>0</td>\n",
       "      <td>137</td>\n",
       "      <td>40</td>\n",
       "      <td>35</td>\n",
       "      <td>168</td>\n",
       "      <td>43.1</td>\n",
       "      <td>2.288</td>\n",
       "      <td>33</td>\n",
       "    </tr>\n",
       "  </tbody>\n",
       "</table>\n",
       "</div>"
      ],
      "text/plain": [
       "   Pregnancies  Glucose  BloodPressure  SkinThickness  Insulin   BMI  \\\n",
       "0            6      148             72             35        0  33.6   \n",
       "1            1       85             66             29        0  26.6   \n",
       "2            8      183             64              0        0  23.3   \n",
       "3            1       89             66             23       94  28.1   \n",
       "4            0      137             40             35      168  43.1   \n",
       "\n",
       "   DiabetesPedigreeFunction  Age  \n",
       "0                     0.627   50  \n",
       "1                     0.351   31  \n",
       "2                     0.672   32  \n",
       "3                     0.167   21  \n",
       "4                     2.288   33  "
      ]
     },
     "execution_count": 122,
     "metadata": {},
     "output_type": "execute_result"
    }
   ],
   "source": [
    "X = df.drop(['Outcome'], axis='columns')\n",
    "X.head()"
   ]
  },
  {
   "cell_type": "code",
   "execution_count": 123,
   "id": "f47276fd",
   "metadata": {},
   "outputs": [
    {
     "data": {
      "text/plain": [
       "0    1\n",
       "1    0\n",
       "2    1\n",
       "3    0\n",
       "4    1\n",
       "Name: Outcome, dtype: int64"
      ]
     },
     "execution_count": 123,
     "metadata": {},
     "output_type": "execute_result"
    }
   ],
   "source": [
    "Y = df['Outcome']\n",
    "Y.head()"
   ]
  },
  {
   "cell_type": "markdown",
   "id": "3e5e2b81",
   "metadata": {},
   "source": [
    "#### Import sklearn modules to create training and testing split of the data"
   ]
  },
  {
   "cell_type": "code",
   "execution_count": 125,
   "id": "f39233b0",
   "metadata": {},
   "outputs": [],
   "source": [
    "from sklearn.model_selection import train_test_split\n",
    "X_train,X_test,Y_train,Y_test=train_test_split(X, Y, train_size=0.8, random_state = 7)"
   ]
  },
  {
   "cell_type": "markdown",
   "id": "910f6c2d",
   "metadata": {},
   "source": [
    "#### Import sklearn modules to perform the linear regression"
   ]
  },
  {
   "cell_type": "code",
   "execution_count": 150,
   "id": "bb374014",
   "metadata": {},
   "outputs": [],
   "source": [
    "from sklearn import linear_model\n",
    "from sklearn.metrics import mean_squared_error, r2_score"
   ]
  },
  {
   "cell_type": "code",
   "execution_count": 138,
   "id": "8e2d90ca",
   "metadata": {},
   "outputs": [
    {
     "name": "stdout",
     "output_type": "stream",
     "text": [
      "353     True\n",
      "236     True\n",
      "323     True\n",
      "98      True\n",
      "701    False\n",
      "       ...  \n",
      "153    False\n",
      "392     True\n",
      "308    False\n",
      "70     False\n",
      "513     True\n",
      "Name: Outcome, Length: 154, dtype: bool\n"
     ]
    }
   ],
   "source": [
    "model = linear_model.LinearRegression()\n",
    "model.fit(X_train, Y_train)\n",
    "\n",
    "Y_pred = model.predict(X_test)\n",
    "\n",
    "for i in range(len(Y_pred)):\n",
    "    if Y_pred[i] < 0.5:\n",
    "        Y_pred[i] = 0\n",
    "    else:\n",
    "        Y_pred[i] = 1\n",
    "        \n",
    "print(Y_pred == Y_test)"
   ]
  },
  {
   "cell_type": "markdown",
   "id": "982027be",
   "metadata": {},
   "source": [
    "#### Create dictionary of dependent variables and their respective coefficients"
   ]
  },
  {
   "cell_type": "code",
   "execution_count": 147,
   "id": "4ccd2745",
   "metadata": {},
   "outputs": [],
   "source": [
    "# initiate dictionary\n",
    "coeff_dict = {}\n",
    "\n",
    "# assign the variables and respective coefficient values\n",
    "for i, coeff in enumerate(model.coef_):\n",
    "    coeff_dict[features[i]] = coeff.round(3)"
   ]
  },
  {
   "cell_type": "code",
   "execution_count": 148,
   "id": "20431927",
   "metadata": {},
   "outputs": [
    {
     "data": {
      "text/plain": [
       "{'Pregnancies': 0.021,\n",
       " 'Glucose': 0.006,\n",
       " 'BloodPressure': -0.002,\n",
       " 'SkinThickness': 0.0,\n",
       " 'Insulin': -0.0,\n",
       " 'BMI': 0.014,\n",
       " 'DiabetesPedigreeFunction': 0.19,\n",
       " 'Age': 0.002}"
      ]
     },
     "execution_count": 148,
     "metadata": {},
     "output_type": "execute_result"
    }
   ],
   "source": [
    "coeff_dict"
   ]
  },
  {
   "cell_type": "markdown",
   "id": "32855e8c",
   "metadata": {},
   "source": [
    "### Print out the model performance"
   ]
  },
  {
   "cell_type": "code",
   "execution_count": 152,
   "id": "97bfaea8",
   "metadata": {},
   "outputs": [
    {
     "name": "stdout",
     "output_type": "stream",
     "text": [
      "Intercept: -0.8369410878179924\n",
      "\n",
      "Mean Squared Error: 0.21428571428571427\n",
      "\n",
      "Coefficient of determination (R^2): 0.08084644601193725\n",
      "\n",
      "Coefficients: {'Pregnancies': 0.021, 'Glucose': 0.006, 'BloodPressure': -0.002, 'SkinThickness': 0.0, 'Insulin': -0.0, 'BMI': 0.014, 'DiabetesPedigreeFunction': 0.19, 'Age': 0.002}\n"
     ]
    }
   ],
   "source": [
    "print(f\"Intercept: {model.intercept_}\\n\")\n",
    "print(f\"Mean Squared Error: {mean_squared_error(Y_test,Y_pred)}\\n\")\n",
    "print(f\"Coefficient of determination (R^2): {r2_score(Y_test, Y_pred)}\\n\")\n",
    "print(f\"Coefficients: {coeff_dict}\")"
   ]
  },
  {
   "cell_type": "code",
   "execution_count": 153,
   "id": "3b82b523",
   "metadata": {},
   "outputs": [
    {
     "ename": "TypeError",
     "evalue": "scatterplot() takes from 0 to 1 positional arguments but 2 were given",
     "output_type": "error",
     "traceback": [
      "\u001b[1;31m---------------------------------------------------------------------------\u001b[0m",
      "\u001b[1;31mTypeError\u001b[0m                                 Traceback (most recent call last)",
      "\u001b[1;32m~\\AppData\\Local\\Temp\\ipykernel_21384\\3340362017.py\u001b[0m in \u001b[0;36m<module>\u001b[1;34m\u001b[0m\n\u001b[1;32m----> 1\u001b[1;33m \u001b[0msns\u001b[0m\u001b[1;33m.\u001b[0m\u001b[0mscatterplot\u001b[0m\u001b[1;33m(\u001b[0m\u001b[0mY_test\u001b[0m\u001b[1;33m,\u001b[0m \u001b[0mY_pred\u001b[0m\u001b[1;33m)\u001b[0m\u001b[1;33m\u001b[0m\u001b[1;33m\u001b[0m\u001b[0m\n\u001b[0m",
      "\u001b[1;31mTypeError\u001b[0m: scatterplot() takes from 0 to 1 positional arguments but 2 were given"
     ]
    }
   ],
   "source": [
    "sns.histplot(data = df_equal, x=df_equal['Glucose'], hue=df_equal['Outcome'], multiple ='dodge', kde=True)\n",
    "sns.scatterplot(data = df, x=Y_test, Y_pred)"
   ]
  }
 ],
 "metadata": {
  "kernelspec": {
   "display_name": "Python 3 (ipykernel)",
   "language": "python",
   "name": "python3"
  },
  "language_info": {
   "codemirror_mode": {
    "name": "ipython",
    "version": 3
   },
   "file_extension": ".py",
   "mimetype": "text/x-python",
   "name": "python",
   "nbconvert_exporter": "python",
   "pygments_lexer": "ipython3",
   "version": "3.7.7"
  }
 },
 "nbformat": 4,
 "nbformat_minor": 5
}
