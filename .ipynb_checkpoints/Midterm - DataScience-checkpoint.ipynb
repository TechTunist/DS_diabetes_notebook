{
 "cells": [
  {
   "cell_type": "markdown",
   "metadata": {},
   "source": [
    "# Midterm Prep\n",
    "\n",
    "## What salient points and techniques to include:\n",
    "\n",
    "\n",
    "### Numpy / Linear Algebra (week 3)\n",
    " - numpy data processing\n",
    " - linear algebra in practice\n",
    " \n",
    "### Pandas / Time Series (week 4)\n",
    " - representing time\n",
    " - time series\n",
    "\n",
    "### Visualising Data (week 5)\n",
    " - qualitative and quantitative\n",
    " - information and scientific visulaisation\n",
    " \n",
    "### Visual Perception and Design (week 6)\n",
    " - data visualisation\n",
    " - exploratory and explanatory visualisation\n",
    " - Matplotlib\n",
    "\n",
    "### Descriptive Statistics (week 7)\n",
    " - quartiles \n",
    " - central tendency\n",
    " - standard deviation\n",
    " - dispersion\n",
    " - making sense of data\n",
    " \n",
    "### Statistics (week 8)\n",
    " - nominal variables\n",
    " - ordinal variables\n",
    " - processing numerical data\n",
    " - making sense of data 2\n",
    " \n",
    "### Machine Learning (week 9)\n",
    " - scikit-learn\n",
    " - linear regression\n",
    " - iris classification\n",
    " - iris dimensionality\n",
    " - iris clustering\n",
    " \n",
    "### Selecting the Best Model (week 10)\n",
    " - bias-variance trade-off\n",
    " - validation curvew\n",
    " - learning curves\n",
    " - grid search\n",
    " \n",
    "### Text Processing (week 11)\n",
    " - text processing fundamentals\n",
    " - representing text\n",
    " - understanding unstructured data\n",
    " \n",
    "### Text Processing 2 (week 12)\n",
    " - regular expressions\n",
    " - stop words\n",
    " \n",
    "### Natural Language Processing (week 13)\n",
    "\n",
    "### Natural Language Processing 2 (week 14)\n",
    " - semantic similaity\n",
    " - wordNet\n",
    " - NLTK\n",
    " - word embeddings\n",
    " - information extraction\n",
    " - POS (part of speech) tagging\n",
    " - relation extraction\n",
    "\n",
    "### Graphs and Networks (week 15)\n",
    " - visualising graphs\n",
    " - building and visualising networks\n",
    " \n",
    "### Advanced Data Visualisation (week 16)\n",
    " - heat maps\n",
    " - multi-dimensional plot\n",
    " - paralell coordinates\n",
    " "
   ]
  },
  {
   "cell_type": "markdown",
   "metadata": {},
   "source": [
    "# ------------------------------------------------------------------------------------------------------"
   ]
  },
  {
   "cell_type": "markdown",
   "metadata": {},
   "source": [
    "## l. Introduction"
   ]
  },
  {
   "cell_type": "markdown",
   "metadata": {},
   "source": [
    "### 1. Identify a domain specific area:\n",
    "\n",
    "(An area of industry or science where the regression model will contribute)\n",
    "\n",
    "Bitcoin and other cryptocurrency price action\n",
    "\n",
    "Financial markets have been massively disrupted by the emergence of Bitcoin and other crypto-assets and their realted exchanges. Fortunes have been made and destroyed in equally quick time, billions of dollars in value has been created and destroyed.\n",
    "\n",
    "Understanding the dynamics of these markets can help protect investors from bad investment decisions.\n",
    "I ultimately intend to implement a regression model that will attempt to remove the short-term violent volatility out of the data and predict a general pattern over longer timeframes. The reasoning behind this is to remove the risk of trying to mitigate for short term volatility by attempting to time the short-term volatility in the market. "
   ]
  },
  {
   "cell_type": "markdown",
   "metadata": {},
   "source": [
    "### 2. Dataset\n",
    "#### https://www.kaggle.com/datasets/sudalairajkumar/cryptocurrency-historical-prices-coingecko?select=ftx-token.csv\n",
    "\n",
    "Due to the sheer amount of interest in the crypto asset class, there are many sources of data that aggregate the price action over many marketplaces, and present this data in readable and easiliy usable format. 'CoinGecko' is one example of a price monitoring service for the asset class, keeping historical data and updating data on a virtual real-time basis.\n",
    "\n",
    "All this data is accessible via the Coingecko API, which is free, publicly available and currently has over 30 endpoints. There is data available on over 13000 crypto assets, and the data is tracked over 600 exchanges.\n",
    "\n",
    "In the name of expediency, I have obtained a .csv file of the dataset from Kaggle that has been updated upto the day of download\n",
    "##### This dataset takes the top 50 crypto assets by market cap"
   ]
  },
  {
   "cell_type": "markdown",
   "metadata": {},
   "source": [
    "### 3. Objectives of the Project\n",
    "\n",
    "\"State and justify the objectives of the project. Discuss its impact and contribution to the\n",
    "domain-specific area. State any contribution which the results may make to the challenge\n",
    "addressed\"\n",
    "\n",
    "The rapid rise of the crypto asset class has taken everybody by surprise, and has gained a reputation as the 'wild-west' of finaicial markets. While there are many proponents of unregulation in the crypto space, stating ideological reasons such as decentralisation and keeping government out of the industry, there appears to be a conflation of the principle of truly decentralised technologies such as bitcoin, with very centralised tokens and exchanges that share the monicker \"crypto\" but are still subject to centralised entities who can initiate massive market moves and mismanage user funds.\n",
    "The most egregious and recent example of this is Sam Bankman-Fried's exchange FTX, where user deposited user funds were swapped immediately with the exchanges native token FTT, while the FIAT deposits were transferred to Mr Bankman-Fried's hedgefund, where the money was lost.\n",
    "\n",
    "There are exchanges out there that are more transparrent about their financials and guarentee to hold user assets in an exact one-to-one ratio, such as the American based 'Coinbase'.\n",
    "\n",
    "The SEC in the United States have described Bitcoin as separate to other crypto assets, and have brought lawsuits against claiming other crypto assets are securities and fall under the purview of the SEC to regulate. In such volatile markets, even the suggestion of regulation or legal action to be taken against a particular crypto asset can have massive implications on the price action of that asset, putting investors in the firing line again. One prime example of this is the supression of the XRP token value due to the lawsuit brought against Ripple labs who created it and the XRP ledger.\n",
    "\n",
    "Due to all this uncertainty in such a high stakes market, I intend to demonstrate how historical data can lead to theoretically possible future outcomes that can contribute to the mitigation of risk for investors\n"
   ]
  },
  {
   "cell_type": "markdown",
   "metadata": {},
   "source": [
    "## ll. Implementation"
   ]
  },
  {
   "cell_type": "markdown",
   "metadata": {},
   "source": [
    "### 4. Convert / Store Dataset locally & Preprocess the Data\n",
    "\n",
    "The zip file downloaded from Kaggle contains a separate .csv file for each different crypto asset\n",
    "\n",
    "This notebook will treat bitcoin and ethereum as 'blue chip' crypto assets which will be examined individually, but the remainder of the dataset (top 50 crypto assets by market cap) will be combined to be able to compare the effect of market conditions on market cap. "
   ]
  },
  {
   "cell_type": "code",
   "execution_count": 40,
   "metadata": {},
   "outputs": [],
   "source": [
    "# import pandas to create dataframe from csv file\n",
    "import pandas as pd"
   ]
  },
  {
   "cell_type": "code",
   "execution_count": 92,
   "metadata": {},
   "outputs": [
    {
     "data": {
      "text/html": [
       "<div>\n",
       "<style scoped>\n",
       "    .dataframe tbody tr th:only-of-type {\n",
       "        vertical-align: middle;\n",
       "    }\n",
       "\n",
       "    .dataframe tbody tr th {\n",
       "        vertical-align: top;\n",
       "    }\n",
       "\n",
       "    .dataframe thead th {\n",
       "        text-align: right;\n",
       "    }\n",
       "</style>\n",
       "<table border=\"1\" class=\"dataframe\">\n",
       "  <thead>\n",
       "    <tr style=\"text-align: right;\">\n",
       "      <th></th>\n",
       "      <th>date</th>\n",
       "      <th>price</th>\n",
       "      <th>total_volume</th>\n",
       "      <th>market_cap</th>\n",
       "      <th>coin_name</th>\n",
       "    </tr>\n",
       "  </thead>\n",
       "  <tbody>\n",
       "    <tr>\n",
       "      <th>0</th>\n",
       "      <td>2015-01-01 00:00:00.000</td>\n",
       "      <td>313.992000</td>\n",
       "      <td>4.699936e+07</td>\n",
       "      <td>4.293958e+09</td>\n",
       "      <td>bitcoin</td>\n",
       "    </tr>\n",
       "    <tr>\n",
       "      <th>1</th>\n",
       "      <td>2015-01-02 00:00:00.000</td>\n",
       "      <td>314.446000</td>\n",
       "      <td>3.885591e+07</td>\n",
       "      <td>4.301448e+09</td>\n",
       "      <td>bitcoin</td>\n",
       "    </tr>\n",
       "    <tr>\n",
       "      <th>2</th>\n",
       "      <td>2015-01-03 00:00:00.000</td>\n",
       "      <td>286.572000</td>\n",
       "      <td>1.187789e+08</td>\n",
       "      <td>3.921358e+09</td>\n",
       "      <td>bitcoin</td>\n",
       "    </tr>\n",
       "    <tr>\n",
       "      <th>3</th>\n",
       "      <td>2015-01-04 00:00:00.000</td>\n",
       "      <td>260.936000</td>\n",
       "      <td>2.055001e+08</td>\n",
       "      <td>3.571640e+09</td>\n",
       "      <td>bitcoin</td>\n",
       "    </tr>\n",
       "    <tr>\n",
       "      <th>4</th>\n",
       "      <td>2015-01-05 00:00:00.000</td>\n",
       "      <td>273.220000</td>\n",
       "      <td>1.550381e+08</td>\n",
       "      <td>3.740880e+09</td>\n",
       "      <td>bitcoin</td>\n",
       "    </tr>\n",
       "    <tr>\n",
       "      <th>5</th>\n",
       "      <td>2015-01-06 00:00:00.000</td>\n",
       "      <td>285.373800</td>\n",
       "      <td>9.700290e+07</td>\n",
       "      <td>3.908408e+09</td>\n",
       "      <td>bitcoin</td>\n",
       "    </tr>\n",
       "    <tr>\n",
       "      <th>6</th>\n",
       "      <td>2015-01-07 00:00:00.000</td>\n",
       "      <td>295.872500</td>\n",
       "      <td>1.106742e+08</td>\n",
       "      <td>4.053239e+09</td>\n",
       "      <td>bitcoin</td>\n",
       "    </tr>\n",
       "    <tr>\n",
       "      <th>7</th>\n",
       "      <td>2015-01-08 00:00:00.000</td>\n",
       "      <td>284.452500</td>\n",
       "      <td>8.657054e+07</td>\n",
       "      <td>3.897824e+09</td>\n",
       "      <td>bitcoin</td>\n",
       "    </tr>\n",
       "    <tr>\n",
       "      <th>8</th>\n",
       "      <td>2015-01-09 00:00:00.000</td>\n",
       "      <td>289.573800</td>\n",
       "      <td>8.347840e+07</td>\n",
       "      <td>3.968993e+09</td>\n",
       "      <td>bitcoin</td>\n",
       "    </tr>\n",
       "    <tr>\n",
       "      <th>9</th>\n",
       "      <td>2015-01-10 00:00:00.000</td>\n",
       "      <td>274.533000</td>\n",
       "      <td>9.268384e+07</td>\n",
       "      <td>3.763909e+09</td>\n",
       "      <td>bitcoin</td>\n",
       "    </tr>\n",
       "    <tr>\n",
       "      <th>10</th>\n",
       "      <td>2015-01-11 00:00:00.000</td>\n",
       "      <td>267.184000</td>\n",
       "      <td>7.325674e+07</td>\n",
       "      <td>3.664201e+09</td>\n",
       "      <td>bitcoin</td>\n",
       "    </tr>\n",
       "    <tr>\n",
       "      <th>11</th>\n",
       "      <td>2015-01-12 00:00:00.000</td>\n",
       "      <td>268.353668</td>\n",
       "      <td>7.898221e+07</td>\n",
       "      <td>3.681155e+09</td>\n",
       "      <td>bitcoin</td>\n",
       "    </tr>\n",
       "    <tr>\n",
       "      <th>12</th>\n",
       "      <td>2015-01-13 00:00:00.000</td>\n",
       "      <td>221.436000</td>\n",
       "      <td>2.157522e+08</td>\n",
       "      <td>3.038251e+09</td>\n",
       "      <td>bitcoin</td>\n",
       "    </tr>\n",
       "    <tr>\n",
       "      <th>13</th>\n",
       "      <td>2015-01-14 00:00:00.000</td>\n",
       "      <td>172.147900</td>\n",
       "      <td>2.360069e+08</td>\n",
       "      <td>2.362640e+09</td>\n",
       "      <td>bitcoin</td>\n",
       "    </tr>\n",
       "    <tr>\n",
       "      <th>14</th>\n",
       "      <td>2015-01-15 00:00:00.000</td>\n",
       "      <td>210.555900</td>\n",
       "      <td>2.576375e+08</td>\n",
       "      <td>2.890522e+09</td>\n",
       "      <td>bitcoin</td>\n",
       "    </tr>\n",
       "    <tr>\n",
       "      <th>15</th>\n",
       "      <td>2015-01-16 00:00:00.000</td>\n",
       "      <td>205.816000</td>\n",
       "      <td>1.762175e+08</td>\n",
       "      <td>2.826188e+09</td>\n",
       "      <td>bitcoin</td>\n",
       "    </tr>\n",
       "    <tr>\n",
       "      <th>16</th>\n",
       "      <td>2015-01-17 00:00:00.000</td>\n",
       "      <td>199.491400</td>\n",
       "      <td>1.064315e+08</td>\n",
       "      <td>2.740019e+09</td>\n",
       "      <td>bitcoin</td>\n",
       "    </tr>\n",
       "    <tr>\n",
       "      <th>17</th>\n",
       "      <td>2015-01-18 00:00:00.000</td>\n",
       "      <td>208.989200</td>\n",
       "      <td>1.186642e+08</td>\n",
       "      <td>2.871292e+09</td>\n",
       "      <td>bitcoin</td>\n",
       "    </tr>\n",
       "    <tr>\n",
       "      <th>18</th>\n",
       "      <td>2015-01-19 00:00:00.000</td>\n",
       "      <td>214.545000</td>\n",
       "      <td>1.055453e+08</td>\n",
       "      <td>2.948379e+09</td>\n",
       "      <td>bitcoin</td>\n",
       "    </tr>\n",
       "    <tr>\n",
       "      <th>19</th>\n",
       "      <td>2015-01-20 00:00:00.000</td>\n",
       "      <td>210.513700</td>\n",
       "      <td>9.431214e+07</td>\n",
       "      <td>2.893627e+09</td>\n",
       "      <td>bitcoin</td>\n",
       "    </tr>\n",
       "  </tbody>\n",
       "</table>\n",
       "</div>"
      ],
      "text/plain": [
       "                       date       price  total_volume    market_cap coin_name\n",
       "0   2015-01-01 00:00:00.000  313.992000  4.699936e+07  4.293958e+09   bitcoin\n",
       "1   2015-01-02 00:00:00.000  314.446000  3.885591e+07  4.301448e+09   bitcoin\n",
       "2   2015-01-03 00:00:00.000  286.572000  1.187789e+08  3.921358e+09   bitcoin\n",
       "3   2015-01-04 00:00:00.000  260.936000  2.055001e+08  3.571640e+09   bitcoin\n",
       "4   2015-01-05 00:00:00.000  273.220000  1.550381e+08  3.740880e+09   bitcoin\n",
       "5   2015-01-06 00:00:00.000  285.373800  9.700290e+07  3.908408e+09   bitcoin\n",
       "6   2015-01-07 00:00:00.000  295.872500  1.106742e+08  4.053239e+09   bitcoin\n",
       "7   2015-01-08 00:00:00.000  284.452500  8.657054e+07  3.897824e+09   bitcoin\n",
       "8   2015-01-09 00:00:00.000  289.573800  8.347840e+07  3.968993e+09   bitcoin\n",
       "9   2015-01-10 00:00:00.000  274.533000  9.268384e+07  3.763909e+09   bitcoin\n",
       "10  2015-01-11 00:00:00.000  267.184000  7.325674e+07  3.664201e+09   bitcoin\n",
       "11  2015-01-12 00:00:00.000  268.353668  7.898221e+07  3.681155e+09   bitcoin\n",
       "12  2015-01-13 00:00:00.000  221.436000  2.157522e+08  3.038251e+09   bitcoin\n",
       "13  2015-01-14 00:00:00.000  172.147900  2.360069e+08  2.362640e+09   bitcoin\n",
       "14  2015-01-15 00:00:00.000  210.555900  2.576375e+08  2.890522e+09   bitcoin\n",
       "15  2015-01-16 00:00:00.000  205.816000  1.762175e+08  2.826188e+09   bitcoin\n",
       "16  2015-01-17 00:00:00.000  199.491400  1.064315e+08  2.740019e+09   bitcoin\n",
       "17  2015-01-18 00:00:00.000  208.989200  1.186642e+08  2.871292e+09   bitcoin\n",
       "18  2015-01-19 00:00:00.000  214.545000  1.055453e+08  2.948379e+09   bitcoin\n",
       "19  2015-01-20 00:00:00.000  210.513700  9.431214e+07  2.893627e+09   bitcoin"
      ]
     },
     "execution_count": 92,
     "metadata": {},
     "output_type": "execute_result"
    }
   ],
   "source": [
    "# read csv and create dataframes for eth and btc\n",
    "\n",
    "# btc\n",
    "btc_df = pd.read_csv('datasets/bitcoin.csv')\n",
    "btc_df.head(20)"
   ]
  },
  {
   "cell_type": "code",
   "execution_count": 62,
   "metadata": {},
   "outputs": [
    {
     "data": {
      "text/html": [
       "<div>\n",
       "<style scoped>\n",
       "    .dataframe tbody tr th:only-of-type {\n",
       "        vertical-align: middle;\n",
       "    }\n",
       "\n",
       "    .dataframe tbody tr th {\n",
       "        vertical-align: top;\n",
       "    }\n",
       "\n",
       "    .dataframe thead th {\n",
       "        text-align: right;\n",
       "    }\n",
       "</style>\n",
       "<table border=\"1\" class=\"dataframe\">\n",
       "  <thead>\n",
       "    <tr style=\"text-align: right;\">\n",
       "      <th></th>\n",
       "      <th>date</th>\n",
       "      <th>price</th>\n",
       "      <th>total_volume</th>\n",
       "      <th>market_cap</th>\n",
       "      <th>coin_name</th>\n",
       "    </tr>\n",
       "  </thead>\n",
       "  <tbody>\n",
       "    <tr>\n",
       "      <th>0</th>\n",
       "      <td>2015-08-07 00:00:00.000</td>\n",
       "      <td>2.831620</td>\n",
       "      <td>9.062200e+04</td>\n",
       "      <td>0.000000e+00</td>\n",
       "      <td>ethereum</td>\n",
       "    </tr>\n",
       "    <tr>\n",
       "      <th>1</th>\n",
       "      <td>2015-08-08 00:00:00.000</td>\n",
       "      <td>1.330750</td>\n",
       "      <td>3.680700e+05</td>\n",
       "      <td>8.033948e+07</td>\n",
       "      <td>ethereum</td>\n",
       "    </tr>\n",
       "    <tr>\n",
       "      <th>2</th>\n",
       "      <td>2015-08-10 00:00:00.000</td>\n",
       "      <td>0.687586</td>\n",
       "      <td>4.004641e+05</td>\n",
       "      <td>4.155631e+07</td>\n",
       "      <td>ethereum</td>\n",
       "    </tr>\n",
       "    <tr>\n",
       "      <th>3</th>\n",
       "      <td>2015-08-11 00:00:00.000</td>\n",
       "      <td>1.067379</td>\n",
       "      <td>1.518998e+06</td>\n",
       "      <td>6.453901e+07</td>\n",
       "      <td>ethereum</td>\n",
       "    </tr>\n",
       "    <tr>\n",
       "      <th>4</th>\n",
       "      <td>2015-08-12 00:00:00.000</td>\n",
       "      <td>1.256613</td>\n",
       "      <td>2.073893e+06</td>\n",
       "      <td>7.601326e+07</td>\n",
       "      <td>ethereum</td>\n",
       "    </tr>\n",
       "  </tbody>\n",
       "</table>\n",
       "</div>"
      ],
      "text/plain": [
       "                      date     price  total_volume    market_cap coin_name\n",
       "0  2015-08-07 00:00:00.000  2.831620  9.062200e+04  0.000000e+00  ethereum\n",
       "1  2015-08-08 00:00:00.000  1.330750  3.680700e+05  8.033948e+07  ethereum\n",
       "2  2015-08-10 00:00:00.000  0.687586  4.004641e+05  4.155631e+07  ethereum\n",
       "3  2015-08-11 00:00:00.000  1.067379  1.518998e+06  6.453901e+07  ethereum\n",
       "4  2015-08-12 00:00:00.000  1.256613  2.073893e+06  7.601326e+07  ethereum"
      ]
     },
     "execution_count": 62,
     "metadata": {},
     "output_type": "execute_result"
    }
   ],
   "source": [
    "# eth\n",
    "eth_df = pd.read_csv('datasets/ethereum.csv')\n",
    "eth_df.head()"
   ]
  },
  {
   "cell_type": "code",
   "execution_count": 63,
   "metadata": {},
   "outputs": [
    {
     "name": "stdout",
     "output_type": "stream",
     "text": [
      "date            False\n",
      "price           False\n",
      "total_volume    False\n",
      "market_cap       True\n",
      "coin_name       False\n",
      "dtype: bool\n"
     ]
    },
    {
     "data": {
      "text/plain": [
       "1"
      ]
     },
     "execution_count": 63,
     "metadata": {},
     "output_type": "execute_result"
    }
   ],
   "source": [
    "# check bitcoin for null values\n",
    "print(btc_df.isnull().any())\n",
    "\n",
    "# find out how many null values\n",
    "btc_df.isnull().any().sum()"
   ]
  },
  {
   "cell_type": "code",
   "execution_count": 64,
   "metadata": {},
   "outputs": [
    {
     "data": {
      "text/plain": [
       "[821]"
      ]
     },
     "execution_count": 64,
     "metadata": {},
     "output_type": "execute_result"
    }
   ],
   "source": [
    "# investigate the the null values\n",
    "btc_df[btc_df['market_cap'].isnull()].index.tolist()"
   ]
  },
  {
   "cell_type": "code",
   "execution_count": 65,
   "metadata": {},
   "outputs": [
    {
     "data": {
      "text/plain": [
       "date            2017-04-02 00:00:00.000\n",
       "price                          1098.068\n",
       "total_volume            80231506.350677\n",
       "market_cap                          NaN\n",
       "coin_name                       bitcoin\n",
       "Name: 821, dtype: object"
      ]
     },
     "execution_count": 65,
     "metadata": {},
     "output_type": "execute_result"
    }
   ],
   "source": [
    "# print the single null value containing record by index\n",
    "btc_df.iloc[821]"
   ]
  },
  {
   "cell_type": "code",
   "execution_count": 70,
   "metadata": {},
   "outputs": [
    {
     "data": {
      "text/plain": [
       "0"
      ]
     },
     "execution_count": 70,
     "metadata": {},
     "output_type": "execute_result"
    }
   ],
   "source": [
    "# delete the single record with null value for market cap\n",
    "btc_df = btc_df.drop(btc_df.index[821])\n",
    "\n",
    "# test dataframe for null values\n",
    "btc_df.isnull().any().sum()"
   ]
  },
  {
   "cell_type": "code",
   "execution_count": 71,
   "metadata": {},
   "outputs": [
    {
     "name": "stdout",
     "output_type": "stream",
     "text": [
      "date            False\n",
      "price           False\n",
      "total_volume    False\n",
      "market_cap       True\n",
      "coin_name       False\n",
      "dtype: bool\n"
     ]
    },
    {
     "data": {
      "text/plain": [
       "1"
      ]
     },
     "execution_count": 71,
     "metadata": {},
     "output_type": "execute_result"
    }
   ],
   "source": [
    "# check ethereum for null values\n",
    "print(eth_df.isnull().any())\n",
    "\n",
    "# find out how many null values\n",
    "eth_df.isnull().any().sum()"
   ]
  },
  {
   "cell_type": "code",
   "execution_count": 72,
   "metadata": {},
   "outputs": [
    {
     "data": {
      "text/plain": [
       "[603]"
      ]
     },
     "execution_count": 72,
     "metadata": {},
     "output_type": "execute_result"
    }
   ],
   "source": [
    "# investigate the the null values\n",
    "eth_df[eth_df['market_cap'].isnull()].index.tolist()"
   ]
  },
  {
   "cell_type": "code",
   "execution_count": 73,
   "metadata": {},
   "outputs": [
    {
     "data": {
      "text/plain": [
       "date            2017-04-02 00:00:00.000\n",
       "price                         48.378467\n",
       "total_volume            86493796.356034\n",
       "market_cap                          NaN\n",
       "coin_name                      ethereum\n",
       "Name: 603, dtype: object"
      ]
     },
     "execution_count": 73,
     "metadata": {},
     "output_type": "execute_result"
    }
   ],
   "source": [
    "# print the single null value containing record by index\n",
    "eth_df.iloc[603]"
   ]
  },
  {
   "cell_type": "code",
   "execution_count": 74,
   "metadata": {},
   "outputs": [
    {
     "data": {
      "text/plain": [
       "0"
      ]
     },
     "execution_count": 74,
     "metadata": {},
     "output_type": "execute_result"
    }
   ],
   "source": [
    "# delete the single record with null value for market cap\n",
    "eth_df = eth_df.drop(df.index[603])\n",
    "\n",
    "# test dataframe for null values\n",
    "eth_df.isnull().any().sum()"
   ]
  },
  {
   "cell_type": "code",
   "execution_count": 81,
   "metadata": {},
   "outputs": [
    {
     "data": {
      "text/plain": [
       "259.7626567478825"
      ]
     },
     "execution_count": 81,
     "metadata": {},
     "output_type": "execute_result"
    }
   ],
   "source": [
    "eth_df['price'].median()"
   ]
  },
  {
   "cell_type": "code",
   "execution_count": 91,
   "metadata": {},
   "outputs": [
    {
     "name": "stdout",
     "output_type": "stream",
     "text": [
      "0         313.992000\n",
      "1         314.446000\n",
      "2         286.572000\n",
      "3         260.936000\n",
      "4         273.220000\n",
      "            ...     \n",
      "2892    17084.873340\n",
      "2893    16923.382870\n",
      "2894    17149.931751\n",
      "2895    16973.372578\n",
      "2896    17085.643141\n",
      "Name: price, Length: 2894, dtype: float64\n",
      "172.1479\n"
     ]
    }
   ],
   "source": [
    "print(btc_df['price'])\n",
    "print(btc_df['price'].min())"
   ]
  },
  {
   "cell_type": "code",
   "execution_count": null,
   "metadata": {},
   "outputs": [],
   "source": []
  }
 ],
 "metadata": {
  "kernelspec": {
   "display_name": "Python 3",
   "language": "python",
   "name": "python3"
  },
  "language_info": {
   "codemirror_mode": {
    "name": "ipython",
    "version": 3
   },
   "file_extension": ".py",
   "mimetype": "text/x-python",
   "name": "python",
   "nbconvert_exporter": "python",
   "pygments_lexer": "ipython3",
   "version": "3.7.6"
  }
 },
 "nbformat": 4,
 "nbformat_minor": 5
}
