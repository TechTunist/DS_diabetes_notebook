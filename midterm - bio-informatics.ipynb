{
 "cells": [
  {
   "cell_type": "markdown",
   "id": "eec6917d",
   "metadata": {},
   "source": [
    "## l. Introduction"
   ]
  },
  {
   "cell_type": "markdown",
   "id": "47020b4e",
   "metadata": {},
   "source": [
    "### 1. Identify a domain specific area:\n",
    "\n",
    "Bio-informatics - \n",
    "Healthcare and Medicine, specifically diabetes"
   ]
  },
  {
   "cell_type": "markdown",
   "id": "ce5396b8",
   "metadata": {},
   "source": [
    "### 2. Dataset:\n",
    "\n",
    "TEMPORARY TOY DATASET: https://scikit-learn.org/stable/modules/generated/sklearn.datasets.load_diabetes.html\n",
    "\n",
    "sklearn.datasets (datasets.load_diabetes())\n",
    "\n",
    "\n",
    "## ========================================\n",
    "### use this dataset for real submission:\n",
    "### https://www.kaggle.com/code/adamhertelendi/diabetes-ds-data-analysis"
   ]
  },
  {
   "cell_type": "markdown",
   "id": "e674ee1a",
   "metadata": {},
   "source": [
    "### 3. Objectives of the Project\n",
    "\n",
    "Diabetes is responsible for {insert number here} deaths every year. There are markers that can be distinguished that can be used to determine the likelihood of diabetes developing "
   ]
  },
  {
   "cell_type": "markdown",
   "id": "ad96d5e6",
   "metadata": {},
   "source": [
    "## ll. Implementation"
   ]
  },
  {
   "cell_type": "markdown",
   "id": "484303be",
   "metadata": {},
   "source": [
    "### 4. Convert / store dataset locally and preprocess the data"
   ]
  },
  {
   "cell_type": "code",
   "execution_count": 1,
   "id": "728cc53b",
   "metadata": {},
   "outputs": [],
   "source": [
    "from sklearn import datasets"
   ]
  },
  {
   "cell_type": "code",
   "execution_count": 13,
   "id": "22f9faae",
   "metadata": {},
   "outputs": [
    {
     "name": "stdout",
     "output_type": "stream",
     "text": [
      "<class 'sklearn.utils.Bunch'>\n"
     ]
    }
   ],
   "source": [
    "# load diabetes dataset from the sklearn dataset library\n",
    "diabetes = datasets.load_diabetes()\n",
    "\n",
    "# check type of dataset\n",
    "print(type(diabetes))"
   ]
  },
  {
   "cell_type": "code",
   "execution_count": 4,
   "id": "cb540c0d",
   "metadata": {},
   "outputs": [
    {
     "name": "stdout",
     "output_type": "stream",
     "text": [
      ".. _diabetes_dataset:\n",
      "\n",
      "Diabetes dataset\n",
      "----------------\n",
      "\n",
      "Ten baseline variables, age, sex, body mass index, average blood\n",
      "pressure, and six blood serum measurements were obtained for each of n =\n",
      "442 diabetes patients, as well as the response of interest, a\n",
      "quantitative measure of disease progression one year after baseline.\n",
      "\n",
      "**Data Set Characteristics:**\n",
      "\n",
      "  :Number of Instances: 442\n",
      "\n",
      "  :Number of Attributes: First 10 columns are numeric predictive values\n",
      "\n",
      "  :Target: Column 11 is a quantitative measure of disease progression one year after baseline\n",
      "\n",
      "  :Attribute Information:\n",
      "      - Age\n",
      "      - Sex\n",
      "      - Body mass index\n",
      "      - Average blood pressure\n",
      "      - S1\n",
      "      - S2\n",
      "      - S3\n",
      "      - S4\n",
      "      - S5\n",
      "      - S6\n",
      "\n",
      "Note: Each of these 10 feature variables have been mean centered and scaled by the standard deviation times `n_samples` (i.e. the sum of squares of each column totals 1).\n",
      "\n",
      "Source URL:\n",
      "https://www4.stat.ncsu.edu/~boos/var.select/diabetes.html\n",
      "\n",
      "For more information see:\n",
      "Bradley Efron, Trevor Hastie, Iain Johnstone and Robert Tibshirani (2004) \"Least Angle Regression,\" Annals of Statistics (with discussion), 407-499.\n",
      "(https://web.stanford.edu/~hastie/Papers/LARS/LeastAngle_2002.pdf)\n"
     ]
    }
   ],
   "source": [
    "print(diabetes.DESCR)"
   ]
  },
  {
   "cell_type": "markdown",
   "id": "6dd6e8cd",
   "metadata": {},
   "source": [
    "##### The first 10 columns are numeric descriptive values, and the 11th column is the 'y' variable that will be predicted"
   ]
  },
  {
   "cell_type": "code",
   "execution_count": 6,
   "id": "40dc54e2",
   "metadata": {},
   "outputs": [
    {
     "name": "stdout",
     "output_type": "stream",
     "text": [
      "['age', 'sex', 'bmi', 'bp', 's1', 's2', 's3', 's4', 's5', 's6']\n"
     ]
    }
   ],
   "source": [
    "# print out the columns\n",
    "print(diabetes.feature_names)"
   ]
  },
  {
   "cell_type": "code",
   "execution_count": 7,
   "id": "d2274b87",
   "metadata": {},
   "outputs": [],
   "source": [
    "# assign the x and y variables\n",
    "x = diabetes.data\n",
    "y = diabetes.target"
   ]
  },
  {
   "cell_type": "code",
   "execution_count": 11,
   "id": "1cbb60f8",
   "metadata": {},
   "outputs": [
    {
     "data": {
      "text/plain": [
       "((442, 10), (442,))"
      ]
     },
     "execution_count": 11,
     "metadata": {},
     "output_type": "execute_result"
    }
   ],
   "source": [
    "# check the rows and columns of x and y\n",
    "x.shape, y.shape"
   ]
  },
  {
   "cell_type": "markdown",
   "id": "06258a32",
   "metadata": {},
   "source": [
    "#### Identify key series of the dataset and provide statistical summary of the data, including:\n",
    " - measures of central tendency\n",
    " - measures of spread\n",
    " - type of distribution"
   ]
  },
  {
   "cell_type": "markdown",
   "id": "42a08e12",
   "metadata": {},
   "source": [
    "##### Import module necessary for data split"
   ]
  },
  {
   "cell_type": "code",
   "execution_count": 14,
   "id": "9a829f9a",
   "metadata": {},
   "outputs": [],
   "source": [
    "from sklearn.model_selection import train_test_split"
   ]
  },
  {
   "cell_type": "code",
   "execution_count": 25,
   "id": "8c4be9cf",
   "metadata": {},
   "outputs": [],
   "source": [
    "# initialise data into an 80/20 split\n",
    "x_train, x_test, y_train, y_test = train_test_split(x,y, test_size=0.2)"
   ]
  },
  {
   "cell_type": "code",
   "execution_count": 26,
   "id": "df8b83b6",
   "metadata": {},
   "outputs": [
    {
     "data": {
      "text/plain": [
       "((353, 10), (353,))"
      ]
     },
     "execution_count": 26,
     "metadata": {},
     "output_type": "execute_result"
    }
   ],
   "source": [
    "x_train.shape, y_train.shape"
   ]
  },
  {
   "cell_type": "code",
   "execution_count": 27,
   "id": "bd75bfc4",
   "metadata": {},
   "outputs": [
    {
     "data": {
      "text/plain": [
       "((89, 10), (89,))"
      ]
     },
     "execution_count": 27,
     "metadata": {},
     "output_type": "execute_result"
    }
   ],
   "source": [
    "x_test.shape, y_test.shape"
   ]
  },
  {
   "cell_type": "markdown",
   "id": "e2625106",
   "metadata": {},
   "source": [
    "##### Import modules necessary for creating the regression model"
   ]
  },
  {
   "cell_type": "code",
   "execution_count": 47,
   "id": "91640a85",
   "metadata": {},
   "outputs": [],
   "source": [
    "from sklearn.metrics import mean_squared_error, r2_score\n",
    "from sklearn import linear_model"
   ]
  },
  {
   "cell_type": "markdown",
   "id": "3c2d2b3b",
   "metadata": {},
   "source": [
    "Define the regression model"
   ]
  },
  {
   "cell_type": "code",
   "execution_count": 30,
   "id": "520ef722",
   "metadata": {},
   "outputs": [],
   "source": [
    "model = linear_model.LinearRegression()"
   ]
  },
  {
   "cell_type": "markdown",
   "id": "0fcc807a",
   "metadata": {},
   "source": [
    "Build the training model"
   ]
  },
  {
   "cell_type": "code",
   "execution_count": 31,
   "id": "7242fa76",
   "metadata": {},
   "outputs": [
    {
     "data": {
      "text/plain": [
       "LinearRegression(copy_X=True, fit_intercept=True, n_jobs=None, normalize=False)"
      ]
     },
     "execution_count": 31,
     "metadata": {},
     "output_type": "execute_result"
    }
   ],
   "source": [
    "model.fit(x_train, y_train)"
   ]
  },
  {
   "cell_type": "markdown",
   "id": "c824f23d",
   "metadata": {},
   "source": [
    "Use the trained model to make predicions on the test set"
   ]
  },
  {
   "cell_type": "code",
   "execution_count": 32,
   "id": "7bf400c2",
   "metadata": {},
   "outputs": [],
   "source": [
    "y_pred = model.predict(x_test)"
   ]
  },
  {
   "cell_type": "markdown",
   "id": "87794d6c",
   "metadata": {},
   "source": [
    "#### Create dictionary of dependent variables and their respective coefficients"
   ]
  },
  {
   "cell_type": "code",
   "execution_count": 56,
   "id": "1cb67a2f",
   "metadata": {},
   "outputs": [],
   "source": [
    "# initiate dictionary\n",
    "coeff_dict = {}\n",
    "\n",
    "# assign the variables and respective coefficient values\n",
    "for i, coeff in enumerate(model.coef_):\n",
    "    coeff_dict[diabetes.feature_names[i]] = coeff\n"
   ]
  },
  {
   "cell_type": "code",
   "execution_count": 57,
   "id": "caf88092",
   "metadata": {},
   "outputs": [
    {
     "data": {
      "text/plain": [
       "{'age': -5.553229707287754,\n",
       " 'sex': -272.603425451895,\n",
       " 'bmi': 568.5898783527225,\n",
       " 'bp': 321.8981842125007,\n",
       " 's1': -495.9208158106599,\n",
       " 's2': 229.91778806747158,\n",
       " 's3': -36.211586699922094,\n",
       " 's4': 115.14349453528206,\n",
       " 's5': 692.8391512384989,\n",
       " 's6': 10.577732645385591}"
      ]
     },
     "execution_count": 57,
     "metadata": {},
     "output_type": "execute_result"
    }
   ],
   "source": [
    "coeff_dict"
   ]
  },
  {
   "cell_type": "markdown",
   "id": "aeb49601",
   "metadata": {},
   "source": [
    "##### Print out the model performance"
   ]
  },
  {
   "cell_type": "code",
   "execution_count": 62,
   "id": "ec132251",
   "metadata": {},
   "outputs": [
    {
     "name": "stdout",
     "output_type": "stream",
     "text": [
      "Intercept: 152.068188616067\n",
      "\n",
      "Mean Squared Error: 2978.490792556882\n",
      "\n",
      "Coefficient of determination (R^2): 0.3760946398545989\n",
      "\n",
      "Coefficients: {'age': -5.553229707287754, 'sex': -272.603425451895, 'bmi': 568.5898783527225, 'bp': 321.8981842125007, 's1': -495.9208158106599, 's2': 229.91778806747158, 's3': -36.211586699922094, 's4': 115.14349453528206, 's5': 692.8391512384989, 's6': 10.577732645385591}\n"
     ]
    }
   ],
   "source": [
    "print(f\"Intercept: {model.intercept_}\\n\")\n",
    "print(f\"Mean Squared Error: {mean_squared_error(y_test,y_pred)}\\n\")\n",
    "print(f\"Coefficient of determination (R^2): {r2_score(y_test, y_pred)}\\n\")\n",
    "print(f\"Coefficients: {coeff_dict}\")"
   ]
  },
  {
   "cell_type": "markdown",
   "id": "9f153aa3",
   "metadata": {},
   "source": [
    "#### Import module for creating plot"
   ]
  },
  {
   "cell_type": "code",
   "execution_count": 63,
   "id": "40d6053b",
   "metadata": {},
   "outputs": [],
   "source": [
    "import seaborn as sns"
   ]
  },
  {
   "cell_type": "code",
   "execution_count": 64,
   "id": "74332498",
   "metadata": {},
   "outputs": [
    {
     "data": {
      "text/plain": [
       "<matplotlib.axes._subplots.AxesSubplot at 0x21cd3463708>"
      ]
     },
     "execution_count": 64,
     "metadata": {},
     "output_type": "execute_result"
    },
    {
     "data": {
      "image/png": "[encoded data removed]",
      "text/plain": [
       "<Figure size 432x288 with 1 Axes>"
      ]
     },
     "metadata": {
      "needs_background": "light"
     },
     "output_type": "display_data"
    }
   ],
   "source": [
    "sns.scatterplot(y_test, y_pred)"
   ]
  }
 ],
 "metadata": {
  "kernelspec": {
   "display_name": "Python 3 (ipykernel)",
   "language": "python",
   "name": "python3"
  },
  "language_info": {
   "codemirror_mode": {
    "name": "ipython",
    "version": 3
   },
   "file_extension": ".py",
   "mimetype": "text/x-python",
   "name": "python",
   "nbconvert_exporter": "python",
   "pygments_lexer": "ipython3",
   "version": "3.7.7"
  }
 },
 "nbformat": 4,
 "nbformat_minor": 5
}
